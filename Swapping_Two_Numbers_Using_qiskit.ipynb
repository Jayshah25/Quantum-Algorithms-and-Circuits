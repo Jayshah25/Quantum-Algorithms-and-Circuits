{
  "nbformat": 4,
  "nbformat_minor": 0,
  "metadata": {
    "colab": {
      "name": "Swap Two Numbers Using qiskit.ipynb",
      "provenance": [],
      "collapsed_sections": [],
      "toc_visible": true
    },
    "kernelspec": {
      "name": "python3",
      "display_name": "Python 3"
    }
  },
  "cells": [
    {
      "cell_type": "markdown",
      "metadata": {
        "id": "OVW2kO03gA9i"
      },
      "source": [
        "# Introduction"
      ]
    },
    {
      "cell_type": "markdown",
      "metadata": {
        "id": "oHNUEyApgFT4"
      },
      "source": [
        "Swapping two numbers and other problems built on top of it are the introductory problems introduced at the beginning of any programming course. In this notebook, we shall try to develop a simple Quantum Circuit that can be used to exchange two digits. The Circuit used is simple to understand and anyone, with no background in Quantum Computing, can also understand the circuit."
      ]
    },
    {
      "cell_type": "markdown",
      "metadata": {
        "id": "h7FqGw1SgwNp"
      },
      "source": [
        "**Prerequisites**\n",
        "\n",
        "* Basic Python"
      ]
    },
    {
      "cell_type": "markdown",
      "metadata": {
        "id": "8OpWN97bg4nY"
      },
      "source": [
        "**Dependencies for this Notebook**\n",
        "\n",
        "* python\n",
        "\n",
        "* numpy\n",
        "\n",
        "* qiskit\n",
        "\n",
        "* pylatexenc"
      ]
    },
    {
      "cell_type": "markdown",
      "metadata": {
        "id": "bVoQihdThLj3"
      },
      "source": [
        "# What is Qiskit?"
      ]
    },
    {
      "cell_type": "markdown",
      "metadata": {
        "id": "RWYErhC9hpAH"
      },
      "source": [
        "[Qiskit](https://qiskit.org/) is an open-source framework for Quantum Computing. It provides tools for creating and manipulating quantum programs and running them on prototype quantum devices on IBM Q Experience or on simulators on a local computer.\n",
        "\n",
        "The version of Qiskit that we will be using is based on Python. The Swift and Javascript Versions of Qiskit are also in Development"
      ]
    },
    {
      "cell_type": "markdown",
      "metadata": {
        "id": "KOWojbxAhtfg"
      },
      "source": [
        "Essentially, we will be building a Quantum Circuit that works on Qubits (Quantum Analogue of Classical bits)."
      ]
    },
    {
      "cell_type": "markdown",
      "metadata": {
        "id": "SY6LnkzXh7AG"
      },
      "source": [
        "# Quantum Gates"
      ]
    },
    {
      "cell_type": "markdown",
      "metadata": {
        "id": "jeraTSj-i50r"
      },
      "source": [
        "Quantum Gates are the most important part of a Quantum Circuit. We manipulate the state of Qubits by applying Quantum Gates on them. This is similar to a Classical Circuit where we use Classical Gates like AND, OR, NOT, NAND, etc. for the purpose of manipulation. Some of the Quantum Gates have a classical analogue (like Quantum NOT Gate) and some are completely new gates with no classical analogues.\n",
        "\n",
        "In the Circuit for Swapping Two Numbers, we will be using:\n",
        "* NOT Gate\n",
        "\n",
        "Note that there are various other more complicated Circuits that make use of other gates like Hadamard Gate to accomplish the same task precisely. However, in this notebook, we will try to keep things simple by using NOT Gate(since it is a very easy to understand Quantum Gate).\n"
      ]
    },
    {
      "cell_type": "markdown",
      "metadata": {
        "id": "A4UMXx2IkjRU"
      },
      "source": [
        "**NOT Gate:**"
      ]
    },
    {
      "cell_type": "markdown",
      "metadata": {
        "id": "B7qcgXCkktUH"
      },
      "source": [
        "The NOT Gate is one of the most simple-to-understand gates in Quantum Circuits. It is the Quantum Analogue of the Classical NOT Gate. It operates on one Qubit. The function of the Quantum NOT Gate is very similar to the classical NOT Gate. A Classical NOT Gate simply flips the state of a bit from 0 to 1 or from 1 to 0. Similarly, the Quantum NOT Gate flips the state of a qubit from **|0>** to **|1>** or from **|1>** to **|0>**.\n",
        "\n",
        "Here, **\"|>\"** are a part of Dirac Notation and they distiguish the state of a Qubit from the state of a classical bit. They are pronounced as 'Ket'. For eg: |0> can be read out as \"Ket Zero\" or \"Ket of Zero\". As we know, the classical bit can take the values of either 0 or 1. Similarly, the Qubits can take either the state |0> or the state |1> or both at the same time(this is just a linear combination of these two states, popularly known as the concept of Superposition)\n",
        "\n",
        "Also, it is important to note that |0> and |1> are both 2X1 Vectors and not a scalar value."
      ]
    },
    {
      "cell_type": "code",
      "metadata": {
        "id": "T5yDkx28IA3W"
      },
      "source": [
        "import numpy as np\n",
        "zero_state = np.array([[1],[0]])\n",
        "one_state = np.array([[0],[1]])"
      ],
      "execution_count": null,
      "outputs": []
    },
    {
      "cell_type": "code",
      "metadata": {
        "id": "5ybx9wa6f6J2",
        "outputId": "efcae95f-3773-4cc5-fe6c-4f1de6bec040",
        "colab": {
          "base_uri": "https://localhost:8080/",
          "height": 117
        }
      },
      "source": [
        "print(\"The |0> is \\n\", zero_state)\n",
        "print(\"The |1> is \\n\", one_state)"
      ],
      "execution_count": null,
      "outputs": [
        {
          "output_type": "stream",
          "text": [
            "The |0> is \n",
            " [[1]\n",
            " [0]]\n",
            "The |1> is \n",
            " [[0]\n",
            " [1]]\n"
          ],
          "name": "stdout"
        }
      ]
    },
    {
      "cell_type": "code",
      "metadata": {
        "id": "OT4YYgmalGnC",
        "outputId": "3745a667-4dbd-4eeb-e505-15aeff9ff14d",
        "colab": {
          "base_uri": "https://localhost:8080/",
          "height": 50
        }
      },
      "source": [
        "print(\"The shape of the Vector |0> is\",zero_state.shape)\n",
        "print(\"The shape of the Vector |1> is\",one_state.shape)"
      ],
      "execution_count": null,
      "outputs": [
        {
          "output_type": "stream",
          "text": [
            "The shape of the Vector |0> is (2, 1)\n",
            "The shape of the Vector |1> is (2, 1)\n"
          ],
          "name": "stdout"
        }
      ]
    },
    {
      "cell_type": "markdown",
      "metadata": {
        "id": "HnyIF8Q0lSgH"
      },
      "source": [
        "* At this point, a good question can be why is |0> equal to [[1],[0]]?\n",
        "\n",
        "The Question has a simple answer. There are two possible states |0> and |1>(after the measurement). The value 1 on the first place indicates that it's the state zero. Similarly, in the state |1>, the value 1 is on the second position, indicating the state one. This is similar to the concept of **One-Hot Encoding**."
      ]
    },
    {
      "cell_type": "markdown",
      "metadata": {
        "id": "kE1rRxtVw2yF"
      },
      "source": [
        "# Quantum Circuits for Swapping Two Numbers"
      ]
    },
    {
      "cell_type": "markdown",
      "metadata": {
        "id": "YsC_UsPkw9WL"
      },
      "source": [
        "For the viewers who are completely new to Python, let me first demonstrate the swapping of two integers using Python! It's Super Simple!"
      ]
    },
    {
      "cell_type": "code",
      "metadata": {
        "id": "fl9wW-9AxMV4",
        "outputId": "c6f6d7bf-6051-4de5-f3de-75672070fbe6",
        "colab": {
          "base_uri": "https://localhost:8080/",
          "height": 84
        }
      },
      "source": [
        "#Getting the user input int values for two numbers\n",
        "num1 = int(input(\"Enter a value for Number One! \\n\")) \n",
        "num2 = int(input(\"Enter a value for Number Two! \\n\")) "
      ],
      "execution_count": null,
      "outputs": [
        {
          "output_type": "stream",
          "text": [
            "Enter a value for Number One! \n",
            "4\n",
            "Enter a value for Number Two! \n",
            "2\n"
          ],
          "name": "stdout"
        }
      ]
    },
    {
      "cell_type": "code",
      "metadata": {
        "id": "_c3dGxVbxp2L"
      },
      "source": [
        "num1, num2 = num2, num1 #Swapping"
      ],
      "execution_count": null,
      "outputs": []
    },
    {
      "cell_type": "code",
      "metadata": {
        "id": "6rdLm7Fax3j6",
        "outputId": "8c4c155a-0d6e-45ee-bfeb-77837fae0411",
        "colab": {
          "base_uri": "https://localhost:8080/",
          "height": 50
        }
      },
      "source": [
        "print(\"The value of Number 1 after swapping: \",num1)\n",
        "print(\"The value of Number 2 after swapping: \",num2)"
      ],
      "execution_count": null,
      "outputs": [
        {
          "output_type": "stream",
          "text": [
            "The value of Number 1 after swapping:  2\n",
            "The value of Number 2 after swapping:  4\n"
          ],
          "name": "stdout"
        }
      ]
    },
    {
      "cell_type": "markdown",
      "metadata": {
        "id": "2WckI_0ayRZ_"
      },
      "source": [
        "The Swapping is Done!\n",
        "\n",
        "This is the reason we say Python is Super Simple!"
      ]
    },
    {
      "cell_type": "markdown",
      "metadata": {
        "id": "Wq-yD3GuiIGI"
      },
      "source": [
        "Some programmers do not consider such type of swapping as a \"valid swapping\", instead they stress on the use of a temporary variable for the swapping of two numbers. If you have learnt languages like C, you can understand the use of temporary variable easily!"
      ]
    },
    {
      "cell_type": "markdown",
      "metadata": {
        "id": "v5MEURjizeJv"
      },
      "source": [
        "Now, let's get into the Quantum Stuff!"
      ]
    },
    {
      "cell_type": "markdown",
      "metadata": {
        "id": "eGpgbiBzzpS2"
      },
      "source": [
        "**Steps to build the Quantum Circuit:**\n",
        "\n",
        "* Take the Inputs from the User\n",
        "\n",
        "* Convert the inputs to their Binary Equivalent\n",
        "\n",
        "* Preprocessing\n",
        "\n",
        "* Build the Quantum Circuit\n"
      ]
    },
    {
      "cell_type": "markdown",
      "metadata": {
        "id": "zfaQwKC_Cc9P"
      },
      "source": [
        "In the demonstration, we use single digit numbers to limit the number of qubits "
      ]
    },
    {
      "cell_type": "markdown",
      "metadata": {
        "id": "9dKEisNq_EiH"
      },
      "source": [
        "**1. Take the User Input**"
      ]
    },
    {
      "cell_type": "code",
      "metadata": {
        "id": "_WOsLzhPyKZf",
        "outputId": "c814a082-a0b4-4d28-8eb8-a5b93c4ecc9f",
        "colab": {
          "base_uri": "https://localhost:8080/",
          "height": 84
        }
      },
      "source": [
        "#Getting the user input int values for two numbers\n",
        "num1 = int(input(\"Enter a value for Number One! \\n\")) \n",
        "num2 = int(input(\"Enter a value for Number Two! \\n\")) "
      ],
      "execution_count": null,
      "outputs": [
        {
          "output_type": "stream",
          "text": [
            "Enter a value for Number One! \n",
            "4\n",
            "Enter a value for Number Two! \n",
            "2\n"
          ],
          "name": "stdout"
        }
      ]
    },
    {
      "cell_type": "markdown",
      "metadata": {
        "id": "bUSBh2y4_Nvv"
      },
      "source": [
        "**2. Convert the input to binary equivalent**"
      ]
    },
    {
      "cell_type": "markdown",
      "metadata": {
        "id": "y4rysbr5_UgP"
      },
      "source": [
        "Let's define a method that takes a int input and return its binary equivalent in the form of a list of strings. We shall call this method 'cvtb' that stands for convert to binary."
      ]
    },
    {
      "cell_type": "code",
      "metadata": {
        "id": "ikYGAbsD_Clo"
      },
      "source": [
        "def cvtb(num):\n",
        "  binnum = [int(i) for i in list('{0:0b}'.format(num))]\n",
        "  return binnum"
      ],
      "execution_count": null,
      "outputs": []
    },
    {
      "cell_type": "markdown",
      "metadata": {
        "id": "hGzjA6QyJX4q"
      },
      "source": [
        "Let's break down the above code block!\n",
        "\n",
        "* The Method **cvtb** takes an integer value 'num'.\n",
        "\n",
        "* '{0:0b}'.format(num) - Here using the format function we convert the number into its binary equivalent. Notice 'b' in '0:0b' which stands for the binary conversion. Similarly, using tother notations, conversion to other formats like octal, hex etc. \n",
        "\n",
        "* Now we convert this conversion into a list and using the list comprehension technique, we convert the string to int format and save it as a list of integer values!\n",
        "\n",
        "Note: You can also choose to return a list of strings, it won't make much difference!"
      ]
    },
    {
      "cell_type": "markdown",
      "metadata": {
        "id": "SVN9auU0lVaA"
      },
      "source": [
        "The Next Three Code cells can help you to understand the explanation in the above block!"
      ]
    },
    {
      "cell_type": "code",
      "metadata": {
        "id": "gxWYKFDsLoBT",
        "outputId": "c15ecd79-c1c8-4ef8-f32c-40e44f929c16",
        "colab": {
          "base_uri": "https://localhost:8080/",
          "height": 35
        }
      },
      "source": [
        "'{0:0b}'.format(4)"
      ],
      "execution_count": null,
      "outputs": [
        {
          "output_type": "execute_result",
          "data": {
            "application/vnd.google.colaboratory.intrinsic+json": {
              "type": "string"
            },
            "text/plain": [
              "'100'"
            ]
          },
          "metadata": {
            "tags": []
          },
          "execution_count": 9
        }
      ]
    },
    {
      "cell_type": "code",
      "metadata": {
        "id": "1X4u1xAiLpac",
        "outputId": "ac319c58-a9c4-4552-d3e1-09daff0fe176",
        "colab": {
          "base_uri": "https://localhost:8080/",
          "height": 33
        }
      },
      "source": [
        "list('{0:0b}'.format(4))"
      ],
      "execution_count": null,
      "outputs": [
        {
          "output_type": "execute_result",
          "data": {
            "text/plain": [
              "['1', '0', '0']"
            ]
          },
          "metadata": {
            "tags": []
          },
          "execution_count": 10
        }
      ]
    },
    {
      "cell_type": "code",
      "metadata": {
        "id": "zGW0NBt6jQMn",
        "outputId": "4970a184-16c2-4c8e-ed48-9f5f275a173e",
        "colab": {
          "base_uri": "https://localhost:8080/",
          "height": 33
        }
      },
      "source": [
        "[int(i) for i in list('{0:0b}'.format(4))]"
      ],
      "execution_count": null,
      "outputs": [
        {
          "output_type": "execute_result",
          "data": {
            "text/plain": [
              "[1, 0, 0]"
            ]
          },
          "metadata": {
            "tags": []
          },
          "execution_count": 11
        }
      ]
    },
    {
      "cell_type": "markdown",
      "metadata": {
        "id": "edm8WzjOkvtv"
      },
      "source": [
        "**3. The Preprocessing**"
      ]
    },
    {
      "cell_type": "code",
      "metadata": {
        "id": "XcceiI7PjW2M"
      },
      "source": [
        "#Calling the method \"cvtb\" and getting the binary equivalents of num1 and num2\n",
        "num1_b = cvtb(num1)\n",
        "num2_b = cvtb(num2)"
      ],
      "execution_count": null,
      "outputs": []
    },
    {
      "cell_type": "code",
      "metadata": {
        "id": "5g4VGBb2lIS5"
      },
      "source": [
        "#Getting the length of each list\n",
        "num1_l = len(num1_b)\n",
        "num2_l = len(num2_b)\n",
        "\n",
        "#Adjusting the length of two lists \n",
        "if num1_l==num2_l:\n",
        "  pass\n",
        "elif num1_l < num2_l:\n",
        "  diff = num2_l - num1_l #Getting the difference in the lengths\n",
        "  for ind in range(diff):\n",
        "    num1_b.insert(ind,0)#Adding zeroes to the left \n",
        "elif num2_l < num1_l:\n",
        "  diff = num1_l - num2_l\n",
        "  for ind in range(diff):\n",
        "    num2_b.insert(ind,0)\n"
      ],
      "execution_count": null,
      "outputs": []
    },
    {
      "cell_type": "code",
      "metadata": {
        "id": "mHIcsgxNnTMK",
        "outputId": "3fd8cc52-965f-4ac5-e5d0-3b4d76eeecdd",
        "colab": {
          "base_uri": "https://localhost:8080/",
          "height": 33
        }
      },
      "source": [
        "print(num1_b)"
      ],
      "execution_count": null,
      "outputs": [
        {
          "output_type": "stream",
          "text": [
            "[1, 0, 0]\n"
          ],
          "name": "stdout"
        }
      ]
    },
    {
      "cell_type": "code",
      "metadata": {
        "id": "kJXx144rnWb_",
        "outputId": "f59386dc-665a-44e9-91eb-12cc875a8e09",
        "colab": {
          "base_uri": "https://localhost:8080/",
          "height": 33
        }
      },
      "source": [
        "print(num2_b)"
      ],
      "execution_count": null,
      "outputs": [
        {
          "output_type": "stream",
          "text": [
            "[0, 1, 0]\n"
          ],
          "name": "stdout"
        }
      ]
    },
    {
      "cell_type": "code",
      "metadata": {
        "id": "A2c-WpdJnbhn"
      },
      "source": [
        "#In this block, we check for the indices with the value 1 in the lists num1_b,\n",
        "#num2_b, and store the indices in the corresponding list\n",
        "indices_num1 = []\n",
        "indices_num2 = []\n",
        "for i in range(len(num2_b)):\n",
        "  if num1_b[i]==1:\n",
        "    indices_num1.append(i)\n",
        "  if num2_b[i]==1:\n",
        "    indices_num2.append(i)"
      ],
      "execution_count": null,
      "outputs": []
    },
    {
      "cell_type": "markdown",
      "metadata": {
        "id": "V5-y77Vzqe3m"
      },
      "source": [
        "Note that all the qubits have an initial state |0>. Therefore, it is important for us to know the index at the which the value is not zero. This is the reason for executing the above block. As we move into the next section, the reason to execute this step will become more clear."
      ]
    },
    {
      "cell_type": "code",
      "metadata": {
        "id": "SreNxFlrp0xw"
      },
      "source": [
        "#In this block, we check for the indices for which the values\n",
        "#differ in both the lists\n",
        "indices = []\n",
        "for i in range(len(num2_b)):\n",
        "  if num1_b[i]!=num2_b[i]:\n",
        "    indices.append(i)"
      ],
      "execution_count": null,
      "outputs": []
    },
    {
      "cell_type": "markdown",
      "metadata": {
        "id": "l3xOP6R_qULv"
      },
      "source": [
        "**4. The Quantum Circuit**"
      ]
    },
    {
      "cell_type": "markdown",
      "metadata": {
        "id": "uE_Bgkezk1Sh"
      },
      "source": [
        "Before we can use qiskit, we need to install Qiskit. If you want to install qiskit on your local machine, you can go through this [video](https://www.youtube.com/watch?v=M4EkW4VwhcI)."
      ]
    },
    {
      "cell_type": "code",
      "metadata": {
        "id": "Sz7dPMVjtGkA"
      },
      "source": [
        "!pip install qiskit #Install qiskit on colab\n",
        "!pip install pylatexenc #Required for matplotlib support to render the images of circuit\n",
        "from IPython.display import clear_output #Clear the output after installation\n",
        "clear_output()"
      ],
      "execution_count": null,
      "outputs": []
    },
    {
      "cell_type": "markdown",
      "metadata": {
        "id": "09_Aj-Su5XiX"
      },
      "source": [
        "Any Quantum Circuit can be subdivided into the following three parts:\n",
        "\n",
        "* Encoding the input into the Qubits\n",
        "\n",
        "* Applying the necessary transformations\n",
        "\n",
        "* Extracting the output "
      ]
    },
    {
      "cell_type": "markdown",
      "metadata": {
        "id": "hShGRp-wqZSG"
      },
      "source": [
        "**Step 1. Encoding the Input**"
      ]
    },
    {
      "cell_type": "code",
      "metadata": {
        "id": "Pn-avlyXteIh"
      },
      "source": [
        "from qiskit import QuantumRegister, ClassicalRegister, QuantumCircuit, Aer, execute"
      ],
      "execution_count": null,
      "outputs": []
    },
    {
      "cell_type": "code",
      "metadata": {
        "id": "X78G9LaHwVhN",
        "outputId": "3975f87b-b32c-44fb-86e0-e95162b7834a",
        "colab": {
          "base_uri": "https://localhost:8080/",
          "height": 50
        }
      },
      "source": [
        "n_qubits = len(num2_b)#Number of required qubits \n",
        "                      #equals to the length of num2_b or num1_b list\n",
        "n_q1 = QuantumRegister(n_qubits,name='num1')\n",
        "print(n_q1)\n",
        "n_b1 = ClassicalRegister(n_qubits)\n",
        "print(n_b1)"
      ],
      "execution_count": null,
      "outputs": [
        {
          "output_type": "stream",
          "text": [
            "QuantumRegister(3, 'num1')\n",
            "ClassicalRegister(3, 'c0')\n"
          ],
          "name": "stdout"
        }
      ]
    },
    {
      "cell_type": "markdown",
      "metadata": {
        "id": "1z8ziXkyOKNE"
      },
      "source": [
        "The Concept of Registers is same like for the Classical Computers. With no surprise, QuantumRegister is the register for Qubits and ClassicalRegister is the register for bits. Also, note that we have used the parameter \"name\" for naming num1 and distinguishing it from num2. This will help us to clearly observe the swapping of the numbers without any confusion. The direct initialization using QuantumCircuit is possible too. The argument \"name\" is also available for QuantumCIrcuit class."
      ]
    },
    {
      "cell_type": "code",
      "metadata": {
        "id": "u6S6_Uytt2bY"
      },
      "source": [
        "qnum1 = QuantumCircuit(n_q1, n_b1) #Initializing the Quantum Circuit\n",
        "#For every index with a value one, we appply a NOT Gate \n",
        "#that transforms state |0> to |1>\n",
        "for i in indices_num1:\n",
        "  qnum1.x(i)"
      ],
      "execution_count": null,
      "outputs": []
    },
    {
      "cell_type": "code",
      "metadata": {
        "id": "TyIQDcM7vJYl",
        "outputId": "918487c0-1e61-4255-d486-c41effe5371d",
        "colab": {
          "base_uri": "https://localhost:8080/",
          "height": 231
        }
      },
      "source": [
        "qnum1.barrier() #We will add a barrier for visual discrimination between the initial\n",
        "                #encoding part and the transformation part\n",
        "qnum1.draw('mpl') #Visualizing the Circuit qnum1"
      ],
      "execution_count": null,
      "outputs": [
        {
          "output_type": "execute_result",
          "data": {
            "image/png": "[encoded data removed]",
            "text/plain": [
              "<Figure size 307.624x264.88 with 1 Axes>"
            ]
          },
          "metadata": {
            "tags": []
          },
          "execution_count": 22
        }
      ]
    },
    {
      "cell_type": "markdown",
      "metadata": {
        "id": "XvzsgW9rQZpK"
      },
      "source": [
        "Now, we will repeat the same steps for the second number and built a circuit **qnum2**"
      ]
    },
    {
      "cell_type": "code",
      "metadata": {
        "id": "uT9CesrGxcpf"
      },
      "source": [
        "n_q2 = QuantumRegister(n_qubits,name='num2')\n",
        "n_b2 = ClassicalRegister(n_qubits)"
      ],
      "execution_count": null,
      "outputs": []
    },
    {
      "cell_type": "code",
      "metadata": {
        "id": "QCRHjSKgu813"
      },
      "source": [
        "qnum2 = QuantumCircuit(n_q2,n_b2)\n",
        "for i in indices_num2:\n",
        "  qnum2.x(i)"
      ],
      "execution_count": null,
      "outputs": []
    },
    {
      "cell_type": "code",
      "metadata": {
        "id": "c60IsXkvvMq1",
        "outputId": "ffc620ed-6ea1-46ce-aa7b-8a392d281a2c",
        "colab": {
          "base_uri": "https://localhost:8080/",
          "height": 231
        }
      },
      "source": [
        "qnum2.barrier()\n",
        "qnum2.draw('mpl')"
      ],
      "execution_count": null,
      "outputs": [
        {
          "output_type": "execute_result",
          "data": {
            "image/png": "[encoded data removed]",
            "text/plain": [
              "<Figure size 307.769x264.88 with 1 Axes>"
            ]
          },
          "metadata": {
            "tags": []
          },
          "execution_count": 25
        }
      ]
    },
    {
      "cell_type": "markdown",
      "metadata": {
        "id": "qu2NiQ-Yv0d-"
      },
      "source": [
        "**Step 2. Applying the Necessary Tansformations**"
      ]
    },
    {
      "cell_type": "code",
      "metadata": {
        "id": "BPL_8wJovdIf"
      },
      "source": [
        "for i in indices:\n",
        "  qnum1.x(i)\n",
        "  qnum2.x(i)"
      ],
      "execution_count": null,
      "outputs": []
    },
    {
      "cell_type": "markdown",
      "metadata": {
        "id": "QDjxuGxBodD7"
      },
      "source": [
        "The above block executes the main logic of the Circuit. Previously, we had stored the indices at which the values in num1_b and num2_b differed. Using these indices, stored in the list \"indices\", we perform a NOT on each of the index in both the circuits. This Simply transforms num1 into num2 and num2 into num1 and the swapping of the numbers take place! Therefore, the **qnum1** circuit holds the values of number two in its binary form and vice versa."
      ]
    },
    {
      "cell_type": "code",
      "metadata": {
        "id": "cSx9VysEzenC",
        "outputId": "514a3806-3b09-4c31-ea10-0a29e39d91cb",
        "colab": {
          "base_uri": "https://localhost:8080/",
          "height": 33
        }
      },
      "source": [
        "#Using barriers to distinguish transformation part from output extraction\n",
        "qnum1.barrier()\n",
        "qnum2.barrier()"
      ],
      "execution_count": null,
      "outputs": [
        {
          "output_type": "execute_result",
          "data": {
            "text/plain": [
              "<qiskit.circuit.instructionset.InstructionSet at 0x7f804ccc8860>"
            ]
          },
          "metadata": {
            "tags": []
          },
          "execution_count": 27
        }
      ]
    },
    {
      "cell_type": "code",
      "metadata": {
        "id": "Fj30_ZRh0-zI",
        "outputId": "238825cf-66f1-496c-f646-77e19585e435",
        "colab": {
          "base_uri": "https://localhost:8080/",
          "height": 231
        }
      },
      "source": [
        "qnum1.draw('mpl')"
      ],
      "execution_count": null,
      "outputs": [
        {
          "output_type": "execute_result",
          "data": {
            "image/png": "[encoded data removed]",
            "text/plain": [
              "<Figure size 428.024x264.88 with 1 Axes>"
            ]
          },
          "metadata": {
            "tags": []
          },
          "execution_count": 28
        }
      ]
    },
    {
      "cell_type": "code",
      "metadata": {
        "id": "aHr56BKxzgMt",
        "outputId": "3980ad10-04f7-4828-9ca5-ce23a54104a8",
        "colab": {
          "base_uri": "https://localhost:8080/",
          "height": 231
        }
      },
      "source": [
        "qnum2.draw('mpl')"
      ],
      "execution_count": null,
      "outputs": [
        {
          "output_type": "execute_result",
          "data": {
            "image/png": "[encoded data removed]",
            "text/plain": [
              "<Figure size 428.169x264.88 with 1 Axes>"
            ]
          },
          "metadata": {
            "tags": []
          },
          "execution_count": 29
        }
      ]
    },
    {
      "cell_type": "markdown",
      "metadata": {
        "id": "ku7OQypV5z2r"
      },
      "source": [
        "**Step 3. Extracrting the output**"
      ]
    },
    {
      "cell_type": "markdown",
      "metadata": {
        "id": "MjYr7cC5zCP5"
      },
      "source": [
        "The only part of the circuit that we have not discussed yet is the **measurement**. \n",
        "\n",
        "The \"Measurement\" is also considered as an operation in Quantum Computing. In fact, a measurement is the only way to extract output from a qubit. Here, we extract the output from the qubits and store it in bits."
      ]
    },
    {
      "cell_type": "code",
      "metadata": {
        "id": "qQfEvYfU1Bd4"
      },
      "source": [
        "for i in range(3):\n",
        "  qnum1.measure(i,i)\n",
        "  qnum2.measure(i,i)"
      ],
      "execution_count": null,
      "outputs": []
    },
    {
      "cell_type": "code",
      "metadata": {
        "id": "MYqa1M-a1TjN",
        "outputId": "1ab5ef05-9a1d-4f78-890d-1e5e6230854e",
        "colab": {
          "base_uri": "https://localhost:8080/",
          "height": 231
        }
      },
      "source": [
        "qnum1.draw('mpl')"
      ],
      "execution_count": null,
      "outputs": [
        {
          "output_type": "execute_result",
          "data": {
            "image/png": "[encoded data removed]",
            "text/plain": [
              "<Figure size 608.624x264.88 with 1 Axes>"
            ]
          },
          "metadata": {
            "tags": []
          },
          "execution_count": 31
        }
      ]
    },
    {
      "cell_type": "code",
      "metadata": {
        "id": "Bkps3pPc1Yan"
      },
      "source": [
        "#Using qasm_simulator, we can simulate our circuit on an actual quantum device\n",
        "simulator = Aer.get_backend('qasm_simulator')"
      ],
      "execution_count": null,
      "outputs": []
    },
    {
      "cell_type": "code",
      "metadata": {
        "id": "kzRm3ZHEypo1"
      },
      "source": [
        "#Get the results for each simulation\n",
        "result_num1 = execute(qnum1,backend=simulator).result().get_counts()"
      ],
      "execution_count": null,
      "outputs": []
    },
    {
      "cell_type": "code",
      "metadata": {
        "id": "oeUcfUQc13dv",
        "outputId": "49d8ebff-1c0f-4bc4-d8b1-aa5d2580dd78",
        "colab": {
          "base_uri": "https://localhost:8080/",
          "height": 339
        }
      },
      "source": [
        "#Visualizing the results through a histogram\n",
        "from qiskit.visualization import plot_histogram\n",
        "plot_histogram(result_num1)"
      ],
      "execution_count": null,
      "outputs": [
        {
          "output_type": "execute_result",
          "data": {
            "image/png": "[encoded data removed]",
            "text/plain": [
              "<Figure size 504x360 with 1 Axes>"
            ]
          },
          "metadata": {
            "tags": []
          },
          "execution_count": 34
        }
      ]
    },
    {
      "cell_type": "markdown",
      "metadata": {
        "id": "kR3Hq2okFJU-"
      },
      "source": [
        "**Analyzing the Results:**\n",
        "\n",
        "* Clearly, we get the results '010' (binary equivalent of number 2) with 100% Probability. The combination of zeroes and ones at the bottom represents the output of the bits.\n",
        "\n",
        "* The number at the bottom, zero in this case, is the output of the bit c2 (the last bit). Therefore, the result should be read from top to bottom."
      ]
    },
    {
      "cell_type": "markdown",
      "metadata": {
        "id": "iuj4di18Gj3_"
      },
      "source": [
        "Now, let us check if we have got the number one in the circuit qnum2"
      ]
    },
    {
      "cell_type": "code",
      "metadata": {
        "id": "FzP8Fw-U7TE4",
        "outputId": "c8f08fa3-69a4-459d-a51e-6fe04b14b4f3",
        "colab": {
          "base_uri": "https://localhost:8080/",
          "height": 231
        }
      },
      "source": [
        "qnum2.draw('mpl')"
      ],
      "execution_count": null,
      "outputs": [
        {
          "output_type": "execute_result",
          "data": {
            "image/png": "[encoded data removed]",
            "text/plain": [
              "<Figure size 608.769x264.88 with 1 Axes>"
            ]
          },
          "metadata": {
            "tags": []
          },
          "execution_count": 35
        }
      ]
    },
    {
      "cell_type": "code",
      "metadata": {
        "id": "hfJL2YHN150h",
        "outputId": "30162ac9-5de2-4574-a565-29839477436d",
        "colab": {
          "base_uri": "https://localhost:8080/",
          "height": 339
        }
      },
      "source": [
        "simulator = Aer.get_backend('qasm_simulator')\n",
        "result_num2 = execute(qnum2,backend=simulator).result().get_counts()\n",
        "plot_histogram(result_num2)"
      ],
      "execution_count": null,
      "outputs": [
        {
          "output_type": "execute_result",
          "data": {
            "image/png": "[encoded data removed]",
            "text/plain": [
              "<Figure size 504x360 with 1 Axes>"
            ]
          },
          "metadata": {
            "tags": []
          },
          "execution_count": 36
        }
      ]
    },
    {
      "cell_type": "markdown",
      "metadata": {
        "id": "7J-ydtnfHDH0"
      },
      "source": [
        "**Analyzing the results**\n",
        "\n",
        "* Here, we get the result '100' (binary equivalent of 4) with 100% Probability.\n",
        "\n",
        "* Therefore, we have successfully swapped the values the two numbers using qiskit!"
      ]
    },
    {
      "cell_type": "markdown",
      "metadata": {
        "id": "PHZxD-F6H9sP"
      },
      "source": [
        "# Conclusion"
      ]
    },
    {
      "cell_type": "markdown",
      "metadata": {
        "id": "Hx0JxXfrIFUr"
      },
      "source": [
        "In this notebook, we learnt about the following qiskit components:\n",
        "\n",
        "* **QuantumRegister**\n",
        "\n",
        "* **ClassicalRegister**\n",
        "\n",
        "* **QuantumCircuit**\n",
        "\n",
        "* Using **NOT Gate** to flip the state of a Qubit\n",
        "\n",
        "* Using **barrier()** to distinguish different parts of a Quantum Circuit\n",
        "\n",
        "* Using **Aer** to get a backend\n",
        "\n",
        "* Executing a Quantum Circuit through **execute**\n",
        "\n",
        "* Analysis of Results through **plot_histogram**"
      ]
    }
  ]
}