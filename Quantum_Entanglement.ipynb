{
  "nbformat": 4,
  "nbformat_minor": 0,
  "metadata": {
    "colab": {
      "name": "Quantum Entanglement.ipynb",
      "provenance": [],
      "collapsed_sections": [],
      "toc_visible": true
    },
    "kernelspec": {
      "name": "python3",
      "display_name": "Python 3"
    }
  },
  "cells": [
    {
      "cell_type": "markdown",
      "metadata": {
        "id": "9rrPgn6BEW6H",
        "colab_type": "text"
      },
      "source": [
        "## **Quantum Entanglement**"
      ]
    },
    {
      "cell_type": "markdown",
      "metadata": {
        "id": "amezeKo9Ef_T",
        "colab_type": "text"
      },
      "source": [
        "In this notebook, we shall learn to entangle two Qubits and create 4 Bell States using the python library Qiskit. The circuit used for demonstration of Quantum Entanglement is simple and therefore, this notebook is a great way for a beginner to get into the World of Quantum Computing using Qiskit."
      ]
    },
    {
      "cell_type": "markdown",
      "metadata": {
        "id": "NhAWrFGcFI4b",
        "colab_type": "text"
      },
      "source": [
        "**Prerequisites:**\n",
        "\n",
        "* Basic Python"
      ]
    },
    {
      "cell_type": "markdown",
      "metadata": {
        "id": "s6Mm5LZ8PJnS",
        "colab_type": "text"
      },
      "source": [
        "The Notebook is developed using the Google Colab. Therefore, if it is run in any other environment(like on a local machines), some steps may vary. However, the notebook can be executed easily in the Google Colab Environment without any changes."
      ]
    },
    {
      "cell_type": "markdown",
      "metadata": {
        "id": "S7ezZ6uXFRdt",
        "colab_type": "text"
      },
      "source": [
        "# What is Qiskit?"
      ]
    },
    {
      "cell_type": "markdown",
      "metadata": {
        "id": "1YPYyxyyhlPA",
        "colab_type": "text"
      },
      "source": [
        "![qiskit](https://drive.google.com/uc?export=view&id=147Ks5mVrOaTxQUTRIriihRXRT4zSdYTn)"
      ]
    },
    {
      "cell_type": "markdown",
      "metadata": {
        "id": "IWm7PVndXzhL",
        "colab_type": "text"
      },
      "source": [
        "**Credits: Github-Qiskit**"
      ]
    },
    {
      "cell_type": "markdown",
      "metadata": {
        "id": "uz72CBxLGn_3",
        "colab_type": "text"
      },
      "source": [
        "[Qiskit](https://qiskit.org/) is an open-source framework for Quantum Computing. It provides tools for creating and manipulating quantum programs and running them on prototype quantum devices on IBM Q Experience or on simulators on a local computer.\n",
        "\n",
        "The version of Qiskit that we will be using is based on Python. The Swift and Javascript Versions of Qiskit are also in Development"
      ]
    },
    {
      "cell_type": "markdown",
      "metadata": {
        "id": "1arl1LnXHTPZ",
        "colab_type": "text"
      },
      "source": [
        "Essentially, we will be building a Quantum Circuit that works on Qubits (Quantum Analogue of Classical bits). "
      ]
    },
    {
      "cell_type": "markdown",
      "metadata": {
        "id": "pZjxu_kyH7Z-",
        "colab_type": "text"
      },
      "source": [
        "# Quantum Gates"
      ]
    },
    {
      "cell_type": "markdown",
      "metadata": {
        "id": "9Qk0jaryIBoC",
        "colab_type": "text"
      },
      "source": [
        "Quantum Gates are the most important part of a Quantum Circuit. We manipulate the state of Qubits by applying Quantum Gates on them. This is similar to a Classical Circuit where we use Classical Gates like AND, OR, NOT, NAND, etc. for the purpose of manipulation. Some of the Quantum Gates have a classical analogue (like Quantum NOT Gate) and some are completely new gates with no classical analogues(like Hadamard Gate).\n",
        "\n",
        "In the Quantum Entanglement Circuit, we will be using two gates:\n",
        "* CNOT Gate\n",
        "* Hadamard Gate"
      ]
    },
    {
      "cell_type": "markdown",
      "metadata": {
        "id": "TqcMOxwUKBnD",
        "colab_type": "text"
      },
      "source": [
        "**CNOT Gate:**"
      ]
    },
    {
      "cell_type": "markdown",
      "metadata": {
        "id": "R1Y9k52YkJu-",
        "colab_type": "text"
      },
      "source": [
        "![cnot](https://drive.google.com/uc?export=view&id=1gKB-XETmyVlZMGhrUt7ECPYkzQ2-aSaR)"
      ]
    },
    {
      "cell_type": "markdown",
      "metadata": {
        "id": "t0rLTkViJE_t",
        "colab_type": "text"
      },
      "source": [
        "The CNOT Gate is one of the most commonly used gates in Quantum Circuits. It is the Quantum Analogue of the Classical XOR Gate. It operates on two Qubits namely, the control Qubit and the Target Qubit. The function of the Gate is simple! If the Control Qubit is in the state |1>, the CNOT Gate performs a NOT on the Target Qubit i.e it flips its state from |0> to |1> or from |1> to |0>. In the image above, the Control Qubit is denoted by **q0** and the Target Qubit is denoted by **q1**.\n",
        "\n",
        "Here, **\"|>\"** are a part of Dirac Notation and they distiguish the state of a Qubit from the state of a classical bit. They are pronounced as 'Ket'. For eg: |0> can be read out as \"Ket Zero\" or \"Ket of Zero\". As we know, the classical bit can take the values of either 0 or 1. Similarly, the Qubits can take either the state |0> or the state |1> or both at the same time(this is just a linear combination of these two states, popularly known as the concept of Superposition)\n",
        "\n",
        "Also, it is important to note that |0> and |1> are both 2X1 Vectors and not a scalar value."
      ]
    },
    {
      "cell_type": "code",
      "metadata": {
        "id": "T5yDkx28IA3W",
        "colab_type": "code",
        "colab": {}
      },
      "source": [
        "import numpy as np\n",
        "zero_state = np.array([[1],[0]])\n",
        "one_state = np.array([[0],[1]])"
      ],
      "execution_count": null,
      "outputs": []
    },
    {
      "cell_type": "code",
      "metadata": {
        "id": "zLcxLy8xSG0J",
        "colab_type": "code",
        "colab": {
          "base_uri": "https://localhost:8080/",
          "height": 117
        },
        "outputId": "959d0684-5658-4523-83da-2eabcf75bc57"
      },
      "source": [
        "print(\"The |0> is \\n\", zero_state)\n",
        "print(\"The |1> is \\n\", one_state)"
      ],
      "execution_count": null,
      "outputs": [
        {
          "output_type": "stream",
          "text": [
            "The |0> is \n",
            " [[1]\n",
            " [0]]\n",
            "The |1> is \n",
            " [[0]\n",
            " [1]]\n"
          ],
          "name": "stdout"
        }
      ]
    },
    {
      "cell_type": "code",
      "metadata": {
        "id": "LSvdVGG0SevZ",
        "colab_type": "code",
        "colab": {
          "base_uri": "https://localhost:8080/",
          "height": 50
        },
        "outputId": "52841780-b95d-4a11-acc3-76968b9052dc"
      },
      "source": [
        "print(\"The shape of the Vector |0> is\",zero_state.shape)\n",
        "print(\"The shape of the Vector |1> is\",one_state.shape)"
      ],
      "execution_count": null,
      "outputs": [
        {
          "output_type": "stream",
          "text": [
            "The shape of the Vector |0> is (2, 1)\n",
            "The shape of the Vector |1> is (2, 1)\n"
          ],
          "name": "stdout"
        }
      ]
    },
    {
      "cell_type": "markdown",
      "metadata": {
        "id": "opGBHLL8TSEM",
        "colab_type": "text"
      },
      "source": [
        "* At this point, a good question can be why is |0> equal to [[1],[0]]?\n",
        "\n",
        "The Question has a simple answer. There are two possible states 0 and 1. The value 1 on the first place indicates that it's the state zero. Similarly, in the state |1>, the value 1 is on the second position, indicating the state one. This is similar to the concept of **One-Hot Encoding**."
      ]
    },
    {
      "cell_type": "markdown",
      "metadata": {
        "id": "WEmNn_5EW2fy",
        "colab_type": "text"
      },
      "source": [
        "**Hadamard Gate:**"
      ]
    },
    {
      "cell_type": "markdown",
      "metadata": {
        "id": "Wm937OFnki3A",
        "colab_type": "text"
      },
      "source": [
        "![hadamard](https://drive.google.com/uc?export=view&id=1cDIHI9EOFzh_ubdyRiSxnaOFEJsIrbzi)"
      ]
    },
    {
      "cell_type": "markdown",
      "metadata": {
        "id": "21VUrZjbk1JC",
        "colab_type": "text"
      },
      "source": [
        "**Image Credits- qiskit.org/textbook**"
      ]
    },
    {
      "cell_type": "markdown",
      "metadata": {
        "id": "SpGuqQsEdeCK",
        "colab_type": "text"
      },
      "source": [
        "The Hadamard is a unique quantum gate and it transforms the state |0> to (|0>+|1>)/sqrt(2) and |1> to (|0>-|1>)/sqrt(2). Alternatively, this can be thought of as a 90 degree rotation around Y-Axis followed by a 180 degree rotation around X axis of the [Bloch Sphere](https://en.wikipedia.org/wiki/Bloch_sphere).\n",
        "\n",
        "\n"
      ]
    },
    {
      "cell_type": "markdown",
      "metadata": {
        "id": "oYbrjkVke34q",
        "colab_type": "text"
      },
      "source": [
        "**Note:** Quantum Gates can be represented using a Unitary Matrix.\n",
        "\n",
        "The Unitary Matrix for CNOT and Hadamard Gates also exist. \n",
        "\n",
        "\n"
      ]
    },
    {
      "cell_type": "markdown",
      "metadata": {
        "id": "D0uVXd0ilG7W",
        "colab_type": "text"
      },
      "source": [
        "![matrices](https://drive.google.com/uc?export=view&id=17MYCH0msxepQst9Yi7O_KbS-J0G9773A)"
      ]
    },
    {
      "cell_type": "markdown",
      "metadata": {
        "colab_type": "text",
        "id": "uZmJ4UfllgMn"
      },
      "source": [
        "**Image Credits- qiskit.org/textbook**"
      ]
    },
    {
      "cell_type": "markdown",
      "metadata": {
        "id": "DizRPyufgDBB",
        "colab_type": "text"
      },
      "source": [
        "# What is Quantum Entanglement?"
      ]
    },
    {
      "cell_type": "markdown",
      "metadata": {
        "id": "sXOJavsvgMP3",
        "colab_type": "text"
      },
      "source": [
        "Before getting into the coding, it is important to undestand what do we mean by the concept of Quantum Entanglement? This concept of Quantum Entanglement is one of the most important concepts in Quantum Mechanics and it was a topic of \n",
        "huge debate between Neil Bohr and Albert Einstein.\n",
        "\n",
        "The Principle states that two quantum particles, when entangled, can communicate with each other instantly irrespective of the distance between them. This means that if we place one qubit from the entangled pair on one edge of the Observable Universe and the other qubit on the other edge, they can still communicate. In simple words, this violates the law of General Theory of Relativity which states that faster than light communication or travel is not possible. Albert Einstein named this concept of Entanglement as \"Spooky Action at a distance\".\n",
        "\n",
        "With resect to Quantum Computing, the idea can be explained as, \"if you measure one qubit from the entangled pair, you instantly know the state of the second qubit\".\n",
        "\n",
        "In this notebook, we will develop four entangled States(also popularly known as [Bell States](https://en.wikipedia.org/wiki/Bell_state)) using two Qubits."
      ]
    },
    {
      "cell_type": "markdown",
      "metadata": {
        "id": "dT4x70QUjRFw",
        "colab_type": "text"
      },
      "source": [
        "The four Bell States are:\n",
        "\n",
        "(Image Credits: Wikipedia)"
      ]
    },
    {
      "cell_type": "markdown",
      "metadata": {
        "id": "w93yFQvLli5Y",
        "colab_type": "text"
      },
      "source": [
        "![bellstate1](https://drive.google.com/uc?export=view&id=1jJKV_dQwfv-cVAW9UhR5jVJ6s8IhPtrT)"
      ]
    },
    {
      "cell_type": "markdown",
      "metadata": {
        "id": "X85crbEvljB_",
        "colab_type": "text"
      },
      "source": [
        "![bellstate2](https://drive.google.com/uc?export=view&id=1RgI7YvBP3g9SELxI_RsC1CpetDAvR1A3)"
      ]
    },
    {
      "cell_type": "markdown",
      "metadata": {
        "id": "2nca8jCYljI2",
        "colab_type": "text"
      },
      "source": [
        "![bellstate3](https://drive.google.com/uc?export=view&id=1uCuRtHKtBnHisR6OKmzjgqvOo-sqPIqa)"
      ]
    },
    {
      "cell_type": "markdown",
      "metadata": {
        "id": "v9PnxEWYljp5",
        "colab_type": "text"
      },
      "source": [
        "![bellstate4](https://drive.google.com/uc?export=view&id=1IHx8hYiKWPJBkkS07ub3Gbpa19Ni4y8C)"
      ]
    },
    {
      "cell_type": "markdown",
      "metadata": {
        "id": "qcCWdkDzkDEv",
        "colab_type": "text"
      },
      "source": [
        "**Note:**\n",
        "\n",
        "Here, two zeros in the notation |00> indicate the states of two Qubits."
      ]
    },
    {
      "cell_type": "markdown",
      "metadata": {
        "id": "n28VOxFYkfH6",
        "colab_type": "text"
      },
      "source": [
        "# Quantum Circuits for Entanglement"
      ]
    },
    {
      "cell_type": "markdown",
      "metadata": {
        "id": "uE_Bgkezk1Sh",
        "colab_type": "text"
      },
      "source": [
        "Before we can use qiskit, we need to install the Qiskit in the Colab. If you want to install qiskit on your local machine, you can go through this [video](https://www.youtube.com/watch?v=M4EkW4VwhcI)."
      ]
    },
    {
      "cell_type": "code",
      "metadata": {
        "id": "hVq6kMC3laeB",
        "colab_type": "code",
        "colab": {}
      },
      "source": [
        "!pip install qiskit #Install qiskit on colab\n",
        "!pip install pylatexenc #Required for matplotlib support to render the images of circuit\n",
        "from IPython.display import clear_output #Clear the output after installation\n",
        "clear_output()"
      ],
      "execution_count": null,
      "outputs": []
    },
    {
      "cell_type": "markdown",
      "metadata": {
        "id": "FCTghaDskkun",
        "colab_type": "text"
      },
      "source": [
        "Now, this is the time to get into the cool coding part!"
      ]
    },
    {
      "cell_type": "markdown",
      "metadata": {
        "id": "7yZGUJfDm4f6",
        "colab_type": "text"
      },
      "source": [
        "We shall build the first Entangled State."
      ]
    },
    {
      "cell_type": "markdown",
      "metadata": {
        "id": "97ATklgytPiA",
        "colab_type": "text"
      },
      "source": [
        "**The First Bell State:**"
      ]
    },
    {
      "cell_type": "markdown",
      "metadata": {
        "colab_type": "text",
        "id": "K1Hv0FtUmpW5"
      },
      "source": [
        "![bellstate1](https://drive.google.com/uc?export=view&id=1jJKV_dQwfv-cVAW9UhR5jVJ6s8IhPtrT)"
      ]
    },
    {
      "cell_type": "code",
      "metadata": {
        "id": "5EZw2ol2kxiH",
        "colab_type": "code",
        "colab": {}
      },
      "source": [
        "#QuantumCircuit is the class that we shall use for our circuit\n",
        "#Aer is required to get the required backend support\n",
        "#execute will execute our circuit\n",
        "from qiskit import QuantumCircuit, Aer, execute"
      ],
      "execution_count": null,
      "outputs": []
    },
    {
      "cell_type": "code",
      "metadata": {
        "id": "cMAw-3f3ky0u",
        "colab_type": "code",
        "colab": {}
      },
      "source": [
        "circuit_es1 = QuantumCircuit(2,2) #initializing our circuit with two qubits and two bits"
      ],
      "execution_count": null,
      "outputs": []
    },
    {
      "cell_type": "code",
      "metadata": {
        "id": "4OHKPUHMn1t_",
        "colab_type": "code",
        "colab": {
          "base_uri": "https://localhost:8080/",
          "height": 33
        },
        "outputId": "3c8e777a-ca34-4bce-ca2b-5cadd171fb1b"
      },
      "source": [
        "circuit_es1.h(0) #Applying hadamard Gate on the first qubit\n",
        "circuit_es1.cx(0,1) #Applying the CNOT Gate with zeroth qubit as the control qubit \n",
        "                    #and the first qubit as the target qubit\n",
        "circuit_es1.measure(0,0) #Measuring the zeroth qubit and storing its output to zeroth bit\n",
        "circuit_es1.measure(1,1)"
      ],
      "execution_count": null,
      "outputs": [
        {
          "output_type": "execute_result",
          "data": {
            "text/plain": [
              "<qiskit.circuit.instructionset.InstructionSet at 0x7fe66d7f95c0>"
            ]
          },
          "metadata": {
            "tags": []
          },
          "execution_count": 44
        }
      ]
    },
    {
      "cell_type": "code",
      "metadata": {
        "id": "k7aumkAcoz3w",
        "colab_type": "code",
        "colab": {
          "base_uri": "https://localhost:8080/",
          "height": 185
        },
        "outputId": "7dc0432e-2518-4d76-fbd5-5eab016c996d"
      },
      "source": [
        "#Let's visualize our circuit\n",
        "circuit_es1.draw('mpl')"
      ],
      "execution_count": null,
      "outputs": [
        {
          "output_type": "execute_result",
          "data": {
            "image/png": "[encoded data removed]",
            "text/plain": [
              "<Figure size 381.432x204.68 with 1 Axes>"
            ]
          },
          "metadata": {
            "tags": []
          },
          "execution_count": 45
        }
      ]
    },
    {
      "cell_type": "markdown",
      "metadata": {
        "id": "I_sEB0-avh04",
        "colab_type": "text"
      },
      "source": [
        "The only part of the circuit that we have not discussed yet is the **measurement**. \n",
        "\n",
        "The \"Measurement\" is also considered as an operation in Quantum Computing. In fact, a measurement is the only way to extract output from a qubit. Here, we extract the output from the qubit and store it in a bit.\n"
      ]
    },
    {
      "cell_type": "code",
      "metadata": {
        "id": "wBzHmNY9oc65",
        "colab_type": "code",
        "colab": {}
      },
      "source": [
        "simulator = Aer.get_backend('qasm_simulator') #Using qasm_simulator, we can simulate our circuit on an actual quantum device\n",
        "result = execute(circuit_es1,backend=simulator, shots = 1024).result() #shots = number of time we want to execute the circuit"
      ],
      "execution_count": null,
      "outputs": []
    },
    {
      "cell_type": "code",
      "metadata": {
        "id": "Rpipp6OQrBPV",
        "colab_type": "code",
        "colab": {}
      },
      "source": [
        "counts = result.get_counts() #Get the results for each simulation"
      ],
      "execution_count": null,
      "outputs": []
    },
    {
      "cell_type": "code",
      "metadata": {
        "id": "zf-qqSpbrFGN",
        "colab_type": "code",
        "colab": {
          "base_uri": "https://localhost:8080/",
          "height": 335
        },
        "outputId": "34e9ce17-937b-43b1-cc8e-f95d21069b8e"
      },
      "source": [
        "from qiskit.visualization import plot_histogram #To visualize our results\n",
        "plot_histogram(counts)"
      ],
      "execution_count": null,
      "outputs": [
        {
          "output_type": "execute_result",
          "data": {
            "image/png": "[encoded data removed]",
            "text/plain": [
              "<Figure size 504x360 with 1 Axes>"
            ]
          },
          "metadata": {
            "tags": []
          },
          "execution_count": 48
        }
      ]
    },
    {
      "cell_type": "markdown",
      "metadata": {
        "id": "wP6tagWyyica",
        "colab_type": "text"
      },
      "source": [
        "**Analyzing the results:**\n",
        "\n",
        "* Clearly, we have got two states |00> and |11> with the right most number representing the state of the zeroth qubit. The probability of getting the state |00> is 0.503 and for |11>, it's 0.497\n",
        "\n",
        "* Note that we can never get the state (|00>+|11>)/sqrt(2). As soon as we measure a qubit, the superposition state vanishes away and we get either |00> or |11>\n",
        "\n",
        "* Initially, all the qubits are in the |0> state. Therefore, initially before applying the Hadamard Gate, our circuit was in the state |00>. We transformed that state into the (|00>+|11>)/sqrt(2) state. However, after measurement we can either get |00> or |11>.\n",
        "\n"
      ]
    },
    {
      "cell_type": "markdown",
      "metadata": {
        "id": "JsRnQ47s04qF",
        "colab_type": "text"
      },
      "source": [
        "**How does the state transformation take place?**\n",
        "\n",
        "* The Hadamard Gate transforms the state of the first qubit from state |0> to (|0>+|1>)/sqrt(2). Therefore, our two qubit circuit is in the state (|00>+|01>)/sqrt(2). The right most digit defines the state of zeroth qubit. \n",
        "\n",
        "* After the Hadamard Gate, we apply the CNOT Gate. Recall that the CNOT Gate performs a NOT on the target qubit if the control qubit is in the state |1>. Clearly, the CNOT Gate has no effect if the state is |00>. However, if the state is |01>, the NOT operation is performed and the |01> state is transformed to |11>. \n",
        "\n",
        "* Now, we finally achieve the state (|00>+|11>)/sqrt(2). However, the state collapses before we make a measurement and therefore, we either get |00> or |11>"
      ]
    },
    {
      "cell_type": "markdown",
      "metadata": {
        "id": "VdLSYrqM3Ov3",
        "colab_type": "text"
      },
      "source": [
        "**Note**: For the next three Bell States, try to figure out yourself the state transformation process as a simple exercise."
      ]
    },
    {
      "cell_type": "markdown",
      "metadata": {
        "id": "2VeJTfm9z-j9",
        "colab_type": "text"
      },
      "source": [
        "**The Second Bell State:**"
      ]
    },
    {
      "cell_type": "markdown",
      "metadata": {
        "colab_type": "text",
        "id": "qyud0Sdmmuf_"
      },
      "source": [
        "![bellstate2](https://drive.google.com/uc?export=view&id=1RgI7YvBP3g9SELxI_RsC1CpetDAvR1A3)"
      ]
    },
    {
      "cell_type": "markdown",
      "metadata": {
        "id": "dFCl3VLpKI8K",
        "colab_type": "text"
      },
      "source": [
        "Before we start building the circuit for Second Bell state, a common question can be - \"Why do these 4 Bell States differ?\"\n",
        "\n",
        "The reason for the differences in the Bell States is the initial state. Each of the four Bell State has a different initial state.\n",
        "\n",
        "Bell State 1 - |00>\n",
        "\n",
        "Bell State 2 - |01>\n",
        "\n",
        "Bell State 3 - |10>\n",
        "\n",
        "Bell State 4 - |11>\n",
        "\n",
        "Therefore, the circuit for all the Bell States is the same. We only need to change the initial states of our qubits."
      ]
    },
    {
      "cell_type": "code",
      "metadata": {
        "id": "jyuYaEn6KHpl",
        "colab_type": "code",
        "colab": {
          "base_uri": "https://localhost:8080/",
          "height": 33
        },
        "outputId": "654b43ae-bd7a-487a-ba51-eb73ccc73b77"
      },
      "source": [
        "circuit_es2 = QuantumCircuit(2,2)\n",
        "circuit_es2.x(0) #Applying the NOT Gate on the first qubit to get the state |01>\n",
        "circuit_es2.h(0) \n",
        "circuit_es2.cx(0,1)\n",
        "circuit_es2.measure(0,0) \n",
        "circuit_es2.measure(1,1)"
      ],
      "execution_count": null,
      "outputs": [
        {
          "output_type": "execute_result",
          "data": {
            "text/plain": [
              "<qiskit.circuit.instructionset.InstructionSet at 0x7fe6766cae48>"
            ]
          },
          "metadata": {
            "tags": []
          },
          "execution_count": 52
        }
      ]
    },
    {
      "cell_type": "code",
      "metadata": {
        "id": "OypdQ7JP037o",
        "colab_type": "code",
        "colab": {
          "base_uri": "https://localhost:8080/",
          "height": 185
        },
        "outputId": "68467387-78fc-425d-8254-90491f88cbde"
      },
      "source": [
        "#Let's visualize our circuit\n",
        "circuit_es2.draw('mpl')"
      ],
      "execution_count": null,
      "outputs": [
        {
          "output_type": "execute_result",
          "data": {
            "image/png": "[encoded data removed]",
            "text/plain": [
              "<Figure size 441.632x204.68 with 1 Axes>"
            ]
          },
          "metadata": {
            "tags": []
          },
          "execution_count": 53
        }
      ]
    },
    {
      "cell_type": "code",
      "metadata": {
        "id": "IisWW_p4MBSy",
        "colab_type": "code",
        "colab": {
          "base_uri": "https://localhost:8080/",
          "height": 333
        },
        "outputId": "caa6e364-acc4-43b5-bae6-a4fa87c68d76"
      },
      "source": [
        "simulator = Aer.get_backend('qasm_simulator') \n",
        "result = execute(circuit_es2,backend=simulator, shots = 1024).result() \n",
        "counts = result.get_counts()\n",
        "plot_histogram(counts)"
      ],
      "execution_count": null,
      "outputs": [
        {
          "output_type": "execute_result",
          "data": {
            "image/png": "[encoded data removed]",
            "text/plain": [
              "<Figure size 504x360 with 1 Axes>"
            ]
          },
          "metadata": {
            "tags": []
          },
          "execution_count": 54
        }
      ]
    },
    {
      "cell_type": "markdown",
      "metadata": {
        "id": "dfnKp_OcNcLr",
        "colab_type": "text"
      },
      "source": [
        "**The Third Bell State:**"
      ]
    },
    {
      "cell_type": "markdown",
      "metadata": {
        "colab_type": "text",
        "id": "C8Ll8KNdmz2G"
      },
      "source": [
        "![bellstate3](https://drive.google.com/uc?export=view&id=1uCuRtHKtBnHisR6OKmzjgqvOo-sqPIqa)"
      ]
    },
    {
      "cell_type": "code",
      "metadata": {
        "id": "-nJHRZLXMaC-",
        "colab_type": "code",
        "colab": {
          "base_uri": "https://localhost:8080/",
          "height": 33
        },
        "outputId": "617eca74-8db7-4f66-e91c-f0b8b8b8ddc5"
      },
      "source": [
        "circuit_es3 = QuantumCircuit(2,2)\n",
        "circuit_es3.x(1) #Applying the NOT Gate on the second qubit to get the state |10>\n",
        "circuit_es3.h(0) \n",
        "circuit_es3.cx(0,1)\n",
        "circuit_es3.measure(0,0) \n",
        "circuit_es3.measure(1,1)"
      ],
      "execution_count": null,
      "outputs": [
        {
          "output_type": "execute_result",
          "data": {
            "text/plain": [
              "<qiskit.circuit.instructionset.InstructionSet at 0x7fe66d59d048>"
            ]
          },
          "metadata": {
            "tags": []
          },
          "execution_count": 55
        }
      ]
    },
    {
      "cell_type": "code",
      "metadata": {
        "id": "JZBT8VHXN0nx",
        "colab_type": "code",
        "colab": {
          "base_uri": "https://localhost:8080/",
          "height": 185
        },
        "outputId": "93ae0eff-13bf-443a-fadc-03eee335190a"
      },
      "source": [
        "#Let's visualize our circuit\n",
        "circuit_es3.draw('mpl')"
      ],
      "execution_count": null,
      "outputs": [
        {
          "output_type": "execute_result",
          "data": {
            "image/png": "[encoded data removed]",
            "text/plain": [
              "<Figure size 381.432x204.68 with 1 Axes>"
            ]
          },
          "metadata": {
            "tags": []
          },
          "execution_count": 56
        }
      ]
    },
    {
      "cell_type": "code",
      "metadata": {
        "id": "rDpbzR26N3Ir",
        "colab_type": "code",
        "colab": {
          "base_uri": "https://localhost:8080/",
          "height": 331
        },
        "outputId": "80a6cbf8-2fc4-4483-b963-064211fb2361"
      },
      "source": [
        "simulator = Aer.get_backend('qasm_simulator') \n",
        "result = execute(circuit_es3,backend=simulator, shots = 1024).result() \n",
        "counts = result.get_counts()\n",
        "plot_histogram(counts)"
      ],
      "execution_count": null,
      "outputs": [
        {
          "output_type": "execute_result",
          "data": {
            "image/png": "[encoded data removed]",
            "text/plain": [
              "<Figure size 504x360 with 1 Axes>"
            ]
          },
          "metadata": {
            "tags": []
          },
          "execution_count": 57
        }
      ]
    },
    {
      "cell_type": "markdown",
      "metadata": {
        "id": "qoWMAL_FOMUq",
        "colab_type": "text"
      },
      "source": [
        "**The Fourth Bell State:**"
      ]
    },
    {
      "cell_type": "markdown",
      "metadata": {
        "colab_type": "text",
        "id": "BeKuStzKm5Ed"
      },
      "source": [
        "![bellstate4](https://drive.google.com/uc?export=view&id=1IHx8hYiKWPJBkkS07ub3Gbpa19Ni4y8C)"
      ]
    },
    {
      "cell_type": "code",
      "metadata": {
        "id": "0uARVFN5OKuP",
        "colab_type": "code",
        "colab": {
          "base_uri": "https://localhost:8080/",
          "height": 33
        },
        "outputId": "244b26e8-9888-43ab-cd0d-294576d361b9"
      },
      "source": [
        "circuit_es4 = QuantumCircuit(2,2)\n",
        "circuit_es4.x(0)\n",
        "circuit_es4.x(1) #Applying the NOT Gates on the two qubits to get the state |11>\n",
        "circuit_es4.h(0) \n",
        "circuit_es4.cx(0,1)\n",
        "circuit_es4.measure(0,0) \n",
        "circuit_es4.measure(1,1)"
      ],
      "execution_count": null,
      "outputs": [
        {
          "output_type": "execute_result",
          "data": {
            "text/plain": [
              "<qiskit.circuit.instructionset.InstructionSet at 0x7fe66d4a5ef0>"
            ]
          },
          "metadata": {
            "tags": []
          },
          "execution_count": 58
        }
      ]
    },
    {
      "cell_type": "code",
      "metadata": {
        "id": "8aPx1x_ROWhN",
        "colab_type": "code",
        "colab": {
          "base_uri": "https://localhost:8080/",
          "height": 185
        },
        "outputId": "29416925-24fa-41e9-e655-7f0692370667"
      },
      "source": [
        "#Let's visualize our circuit\n",
        "circuit_es4.draw('mpl')"
      ],
      "execution_count": null,
      "outputs": [
        {
          "output_type": "execute_result",
          "data": {
            "image/png": "[encoded data removed]",
            "text/plain": [
              "<Figure size 441.632x204.68 with 1 Axes>"
            ]
          },
          "metadata": {
            "tags": []
          },
          "execution_count": 59
        }
      ]
    },
    {
      "cell_type": "code",
      "metadata": {
        "id": "42wKYxYSOaPy",
        "colab_type": "code",
        "colab": {
          "base_uri": "https://localhost:8080/",
          "height": 335
        },
        "outputId": "2cd75ce2-23a5-4e24-bffb-2a596b771abf"
      },
      "source": [
        "simulator = Aer.get_backend('qasm_simulator') \n",
        "result = execute(circuit_es4,backend=simulator, shots = 1024).result() \n",
        "counts = result.get_counts()\n",
        "plot_histogram(counts)"
      ],
      "execution_count": null,
      "outputs": [
        {
          "output_type": "execute_result",
          "data": {
            "image/png": "[encoded data removed]",
            "text/plain": [
              "<Figure size 504x360 with 1 Axes>"
            ]
          },
          "metadata": {
            "tags": []
          },
          "execution_count": 60
        }
      ]
    },
    {
      "cell_type": "markdown",
      "metadata": {
        "id": "xDRSNFxRO8BS",
        "colab_type": "text"
      },
      "source": [
        "If you find something incorrect in the notebook or feel that some concepts needed a better explaination or you need resources for better understanding, contact me on [LinkedIn](https://www.linkedin.com/in/jay-shah-mlpython/).\n",
        "\n"
      ]
    },
    {
      "cell_type": "markdown",
      "metadata": {
        "id": "gPsL7AXXSVuT",
        "colab_type": "text"
      },
      "source": [
        "**THANK YOU!**"
      ]
    }
  ]
}