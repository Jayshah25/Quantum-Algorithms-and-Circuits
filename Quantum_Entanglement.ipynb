{
  "nbformat": 4,
  "nbformat_minor": 0,
  "metadata": {
    "colab": {
      "name": "Quantum Entanglement.ipynb",
      "provenance": [],
      "collapsed_sections": [],
      "toc_visible": true,
      "authorship_tag": "ABX9TyOCr2IVBXJcd5ElWH/aIJVR",
      "include_colab_link": true
    },
    "kernelspec": {
      "name": "python3",
      "display_name": "Python 3"
    }
  },
  "cells": [
    {
      "cell_type": "markdown",
      "metadata": {
        "id": "view-in-github",
        "colab_type": "text"
      },
      "source": [
        "<a href=\"https://colab.research.google.com/github/Jayshah25/Quantum-Algorithms-and-Circuits/blob/master/Quantum_Entanglement.ipynb\" target=\"_parent\"><img src=\"https://colab.research.google.com/assets/colab-badge.svg\" alt=\"Open In Colab\"/></a>"
      ]
    },
    {
      "cell_type": "markdown",
      "metadata": {
        "id": "9rrPgn6BEW6H",
        "colab_type": "text"
      },
      "source": [
        "## **Quantum Entanglement**"
      ]
    },
    {
      "cell_type": "markdown",
      "metadata": {
        "id": "amezeKo9Ef_T",
        "colab_type": "text"
      },
      "source": [
        "In this notebook, we shall learn to entangle two Qubits and create 4 Bell States using the python library Qiskit. The circuit used for demonstration of Quantum Entanglement is simple and therefore, this notebook is a great way for a beginner to get into the World of Quantum Computing using Qiskit."
      ]
    },
    {
      "cell_type": "markdown",
      "metadata": {
        "id": "NhAWrFGcFI4b",
        "colab_type": "text"
      },
      "source": [
        "**Prerequisites:**\n",
        "\n",
        "* Basic Python"
      ]
    },
    {
      "cell_type": "markdown",
      "metadata": {
        "id": "s6Mm5LZ8PJnS",
        "colab_type": "text"
      },
      "source": [
        "The Notebook is developed using the Google Colab. Therefore, if it is run in any other environment(like on a local machines), some steps may vary. However, the notebook can be executed easily in the Google Colab Environment without any changes."
      ]
    },
    {
      "cell_type": "markdown",
      "metadata": {
        "id": "S7ezZ6uXFRdt",
        "colab_type": "text"
      },
      "source": [
        "# What is Qiskit?"
      ]
    },
    {
      "cell_type": "markdown",
      "metadata": {
        "id": "35IvAhngfJzi",
        "colab_type": "text"
      },
      "source": [
        "![Qiskit](https://github.com/Jayshah25/Quantum-Algorithms-and-Circuits/blob/master/Images_Used/Quantum_Entanglement/Bell1.png)"
      ]
    },
    {
      "cell_type": "markdown",
      "metadata": {
        "id": "IWm7PVndXzhL",
        "colab_type": "text"
      },
      "source": [
        "**Credits: Github-Qiskit**"
      ]
    },
    {
      "cell_type": "markdown",
      "metadata": {
        "id": "uz72CBxLGn_3",
        "colab_type": "text"
      },
      "source": [
        "[Qiskit](https://qiskit.org/) is an open-source framework for Quantum Computing. It provides tools for creating and manipulating quantum programs and running them on prototype quantum devices on IBM Q Experience or on simulators on a local computer.\n",
        "\n",
        "The version of Qiskit that we will be using is based on Python. The Swift and Javascript Versions of Qiskit are also in Development"
      ]
    },
    {
      "cell_type": "markdown",
      "metadata": {
        "id": "1arl1LnXHTPZ",
        "colab_type": "text"
      },
      "source": [
        "Essentially, we will be building a Quantum Circuit that works on Qubits (Quantum Analogue of Classical bits). "
      ]
    },
    {
      "cell_type": "markdown",
      "metadata": {
        "id": "pZjxu_kyH7Z-",
        "colab_type": "text"
      },
      "source": [
        "# Quantum Gates"
      ]
    },
    {
      "cell_type": "markdown",
      "metadata": {
        "id": "9Qk0jaryIBoC",
        "colab_type": "text"
      },
      "source": [
        "Quantum Gates are the most important part of a Quantum Circuit. We manipulate the state of Qubits by applying Quantum Gates on them. This is similar to a Classical Circuit where we use Classical Gates like AND, OR, NOT, NAND, etc. for the purpose of manipulation. Some of the Quantum Gates have a classical analogue (like Quantum NOT Gate) and some are completely new gates with no classical analogues(like Hadamard Gate).\n",
        "\n",
        "In the Quantum Entanglement Circuit, we will be using two gates:\n",
        "* CNOT Gate\n",
        "* Hadamard Gate"
      ]
    },
    {
      "cell_type": "markdown",
      "metadata": {
        "id": "TqcMOxwUKBnD",
        "colab_type": "text"
      },
      "source": [
        "**CNOT Gate:**"
      ]
    },
    {
      "cell_type": "markdown",
      "metadata": {
        "id": "FBEAk30AbqgO",
        "colab_type": "text"
      },
      "source": [
        "![Screenshot (392).png](data:image/png;base64,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)"
      ]
    },
    {
      "cell_type": "markdown",
      "metadata": {
        "id": "t0rLTkViJE_t",
        "colab_type": "text"
      },
      "source": [
        "The CNOT Gate is one of the most commonly used gates in Quantum Circuits. It is the Quantum Analogue of the Classical XOR Gate. It operates on two Qubits namely, the control Qubit and the Target Qubit. The function of the Gate is simple! If the Control Qubit is in the state |1>, the CNOT Gate performs a NOT on the Target Qubit i.e it flips its state from |0> to |1> or from |1> to |0>. In the image above, the Control Qubit is denoted by **q0** and the Target Qubit is denoted by **q1**.\n",
        "\n",
        "Here, **\"|>\"** are a part of Dirac Notation and they distiguish the state of a Qubit from the state of a classical bit. They are pronounced as 'Ket'. For eg: |0> can be read out as \"Ket Zero\" or \"Ket of Zero\". As we know, the classical bit can take the values of either 0 or 1. Similarly, the Qubits can take either the state |0> or the state |1> or both at the same time(this is just a linear combination of these two states, popularly known as the concept of Superposition)\n",
        "\n",
        "Also, it is important to note that |0> and |1> are both 2X1 Vectors and not a scalar value."
      ]
    },
    {
      "cell_type": "code",
      "metadata": {
        "id": "T5yDkx28IA3W",
        "colab_type": "code",
        "colab": {}
      },
      "source": [
        "import numpy as np\n",
        "zero_state = np.array([[1],[0]])\n",
        "one_state = np.array([[0],[1]])"
      ],
      "execution_count": null,
      "outputs": []
    },
    {
      "cell_type": "code",
      "metadata": {
        "id": "zLcxLy8xSG0J",
        "colab_type": "code",
        "colab": {
          "base_uri": "https://localhost:8080/",
          "height": 117
        },
        "outputId": "959d0684-5658-4523-83da-2eabcf75bc57"
      },
      "source": [
        "print(\"The |0> is \\n\", zero_state)\n",
        "print(\"The |1> is \\n\", one_state)"
      ],
      "execution_count": null,
      "outputs": [
        {
          "output_type": "stream",
          "text": [
            "The |0> is \n",
            " [[1]\n",
            " [0]]\n",
            "The |1> is \n",
            " [[0]\n",
            " [1]]\n"
          ],
          "name": "stdout"
        }
      ]
    },
    {
      "cell_type": "code",
      "metadata": {
        "id": "LSvdVGG0SevZ",
        "colab_type": "code",
        "colab": {
          "base_uri": "https://localhost:8080/",
          "height": 50
        },
        "outputId": "52841780-b95d-4a11-acc3-76968b9052dc"
      },
      "source": [
        "print(\"The shape of the Vector |0> is\",zero_state.shape)\n",
        "print(\"The shape of the Vector |1> is\",one_state.shape)"
      ],
      "execution_count": null,
      "outputs": [
        {
          "output_type": "stream",
          "text": [
            "The shape of the Vector |0> is (2, 1)\n",
            "The shape of the Vector |1> is (2, 1)\n"
          ],
          "name": "stdout"
        }
      ]
    },
    {
      "cell_type": "markdown",
      "metadata": {
        "id": "opGBHLL8TSEM",
        "colab_type": "text"
      },
      "source": [
        "* At this point, a good question can be why is |0> equal to [[1],[0]]?\n",
        "\n",
        "The Question has a simple answer. There are two possible states 0 and 1. The value 1 on the first place indicates that it's the state zero. Similarly, in the state |1>, the value 1 is on the second position, indicating the state one. This is similar to the concept of **One-Hot Encoding**."
      ]
    },
    {
      "cell_type": "markdown",
      "metadata": {
        "id": "WEmNn_5EW2fy",
        "colab_type": "text"
      },
      "source": [
        "**Hadamard Gate:**"
      ]
    },
    {
      "cell_type": "markdown",
      "metadata": {
        "id": "UTrvnBf-W9oY",
        "colab_type": "text"
      },
      "source": [
        "![image.png](data:image/png;base64,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)\n",
        "\n",
        "**Image Credits: qiskit.org/textbook**"
      ]
    },
    {
      "cell_type": "markdown",
      "metadata": {
        "id": "SpGuqQsEdeCK",
        "colab_type": "text"
      },
      "source": [
        "The Hadamard is a unique quantum gate and it transforms the state |0> to (|0>+|1>)/sqrt(2) and |1> to (|0>-|1>)/sqrt(2). Alternatively, this can be thought of as a 90 degree rotation around Y-Axis followed by a 180 degree rotation around X axis of the [Bloch Sphere](https://en.wikipedia.org/wiki/Bloch_sphere).\n",
        "\n",
        "\n"
      ]
    },
    {
      "cell_type": "markdown",
      "metadata": {
        "id": "oYbrjkVke34q",
        "colab_type": "text"
      },
      "source": [
        "**Note:** Quantum Gates can be represented using a Unitary Matrix.\n",
        "\n",
        "The Unitary Matrix for CNOT and Hadamard Gates also exist. \n",
        "\n",
        "**For CNOT Gate:**\n",
        "\n",
        "![image.png](data:image/png;base64,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)\n",
        "\n"
      ]
    },
    {
      "cell_type": "markdown",
      "metadata": {
        "id": "IGaAHqUhfr_B",
        "colab_type": "text"
      },
      "source": [
        "**For Hadamard Gate:**\n",
        "\n",
        "\n",
        "\n",
        "![image.png](data:image/png;base64,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)"
      ]
    },
    {
      "cell_type": "markdown",
      "metadata": {
        "id": "DizRPyufgDBB",
        "colab_type": "text"
      },
      "source": [
        "# What is Quantum Entanglement?"
      ]
    },
    {
      "cell_type": "markdown",
      "metadata": {
        "id": "sXOJavsvgMP3",
        "colab_type": "text"
      },
      "source": [
        "Before getting into the coding, it is important to undestand what do we mean by the concept of Quantum Entanglement? This concept of Quantum Entanglement is one of the most important concepts in Quantum Mechanics and it was a topic of \n",
        "huge debate between Neil Bohr and Albert Einstein.\n",
        "\n",
        "The Principle states that two quantum particles, when entangled, can communicate with each other instantly irrespective of the distance between them. This means that if we place one qubit from the entangled pair on one edge of the Observable Universe and the other qubit on the other edge, they can still communicate. In simple words, this violates the law of General Theory of Relativity which states that faster than light communication or travel is not possible. Albert Einstein named this concept of Entanglement as \"Spooky Action at a distance\".\n",
        "\n",
        "With resect to Quantum Computing, the idea can be explained as, \"if you measure one qubit from the entangled pair, you instantly know the state of the second qubit\".\n",
        "\n",
        "In this notebook, we will develop four entangled States(also popularly known as [Bell States](https://en.wikipedia.org/wiki/Bell_state)) using two Qubits."
      ]
    },
    {
      "cell_type": "markdown",
      "metadata": {
        "id": "dT4x70QUjRFw",
        "colab_type": "text"
      },
      "source": [
        "The four Bell States are:\n",
        "\n",
        "(Image Credits: Wikipedia)"
      ]
    },
    {
      "cell_type": "markdown",
      "metadata": {
        "id": "bLswUJfejaxn",
        "colab_type": "text"
      },
      "source": [
        "![image.png](data:image/png;base64,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)"
      ]
    },
    {
      "cell_type": "markdown",
      "metadata": {
        "id": "yEzMjo9CjqkX",
        "colab_type": "text"
      },
      "source": [
        "![image.png](data:image/png;base64,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)"
      ]
    },
    {
      "cell_type": "markdown",
      "metadata": {
        "id": "lBqIgp6vjzzH",
        "colab_type": "text"
      },
      "source": [
        "![image.png](data:image/png;base64,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)"
      ]
    },
    {
      "cell_type": "markdown",
      "metadata": {
        "id": "sB2jCDUXj7ux",
        "colab_type": "text"
      },
      "source": [
        "![image.png](data:image/png;base64,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)"
      ]
    },
    {
      "cell_type": "markdown",
      "metadata": {
        "id": "qcCWdkDzkDEv",
        "colab_type": "text"
      },
      "source": [
        "**Note:**\n",
        "\n",
        "Here, two zeros in the notation |00> indicate the states of two Qubits."
      ]
    },
    {
      "cell_type": "markdown",
      "metadata": {
        "id": "n28VOxFYkfH6",
        "colab_type": "text"
      },
      "source": [
        "# Quantum Circuits for Entanglement"
      ]
    },
    {
      "cell_type": "markdown",
      "metadata": {
        "id": "uE_Bgkezk1Sh",
        "colab_type": "text"
      },
      "source": [
        "Before we can use qiskit, we need to install the Qiskit in the Colab. If you want to install qiskit on your local machine, you can go through this [video](https://www.youtube.com/watch?v=M4EkW4VwhcI)."
      ]
    },
    {
      "cell_type": "code",
      "metadata": {
        "id": "hVq6kMC3laeB",
        "colab_type": "code",
        "colab": {}
      },
      "source": [
        "!pip install qiskit #Install qiskit on colab\n",
        "!pip install pylatexenc #Required for matplotlib support to render the images of circuit\n",
        "from IPython.display import clear_output #Clear the output after installation\n",
        "clear_output()"
      ],
      "execution_count": null,
      "outputs": []
    },
    {
      "cell_type": "markdown",
      "metadata": {
        "id": "FCTghaDskkun",
        "colab_type": "text"
      },
      "source": [
        "Now, this is the time to get into the cool coding part!"
      ]
    },
    {
      "cell_type": "markdown",
      "metadata": {
        "id": "7yZGUJfDm4f6",
        "colab_type": "text"
      },
      "source": [
        "We shall build the first Entangled State."
      ]
    },
    {
      "cell_type": "markdown",
      "metadata": {
        "id": "97ATklgytPiA",
        "colab_type": "text"
      },
      "source": [
        "**The First Bell State:**"
      ]
    },
    {
      "cell_type": "markdown",
      "metadata": {
        "colab_type": "text",
        "id": "AICED7U_tiqF"
      },
      "source": [
        "![image.png](data:image/png;base64,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)"
      ]
    },
    {
      "cell_type": "code",
      "metadata": {
        "id": "5EZw2ol2kxiH",
        "colab_type": "code",
        "colab": {}
      },
      "source": [
        "#QuantumCircuit is the class that we shall use for our circuit\n",
        "#Aer is required to get the required backend support\n",
        "#execute will execute our circuit\n",
        "from qiskit import QuantumCircuit, Aer, execute"
      ],
      "execution_count": null,
      "outputs": []
    },
    {
      "cell_type": "code",
      "metadata": {
        "id": "cMAw-3f3ky0u",
        "colab_type": "code",
        "colab": {}
      },
      "source": [
        "circuit_es1 = QuantumCircuit(2,2) #initializing our circuit with two qubits and two bits"
      ],
      "execution_count": null,
      "outputs": []
    },
    {
      "cell_type": "code",
      "metadata": {
        "id": "4OHKPUHMn1t_",
        "colab_type": "code",
        "colab": {
          "base_uri": "https://localhost:8080/",
          "height": 33
        },
        "outputId": "3c8e777a-ca34-4bce-ca2b-5cadd171fb1b"
      },
      "source": [
        "circuit_es1.h(0) #Applying hadamard Gate on the first qubit\n",
        "circuit_es1.cx(0,1) #Applying the CNOT Gate with zeroth qubit as the control qubit \n",
        "                    #and the first qubit as the target qubit\n",
        "circuit_es1.measure(0,0) #Measuring the zeroth qubit and storing its output to zeroth bit\n",
        "circuit_es1.measure(1,1)"
      ],
      "execution_count": null,
      "outputs": [
        {
          "output_type": "execute_result",
          "data": {
            "text/plain": [
              "<qiskit.circuit.instructionset.InstructionSet at 0x7fe66d7f95c0>"
            ]
          },
          "metadata": {
            "tags": []
          },
          "execution_count": 44
        }
      ]
    },
    {
      "cell_type": "code",
      "metadata": {
        "id": "k7aumkAcoz3w",
        "colab_type": "code",
        "colab": {
          "base_uri": "https://localhost:8080/",
          "height": 185
        },
        "outputId": "7dc0432e-2518-4d76-fbd5-5eab016c996d"
      },
      "source": [
        "#Let's visualize our circuit\n",
        "circuit_es1.draw('mpl')"
      ],
      "execution_count": null,
      "outputs": [
        {
          "output_type": "execute_result",
          "data": {
            "image/png": "[encoded data removed]",
            "text/plain": [
              "<Figure size 381.432x204.68 with 1 Axes>"
            ]
          },
          "metadata": {
            "tags": []
          },
          "execution_count": 45
        }
      ]
    },
    {
      "cell_type": "markdown",
      "metadata": {
        "id": "I_sEB0-avh04",
        "colab_type": "text"
      },
      "source": [
        "The only part of the circuit that we have not discussed yet is the **measurement**. \n",
        "\n",
        "The \"Measurement\" is also considered as an operation in Quantum Computing. In fact, a measurement is the only way to extract output from a qubit. Here, we extract the output from the qubit and store it in a bit.\n"
      ]
    },
    {
      "cell_type": "code",
      "metadata": {
        "id": "wBzHmNY9oc65",
        "colab_type": "code",
        "colab": {}
      },
      "source": [
        "simulator = Aer.get_backend('qasm_simulator') #Using qasm_simulator, we can simulate our circuit on an actual quantum device\n",
        "result = execute(circuit_es1,backend=simulator, shots = 1024).result() #shots = number of time we want to execute the circuit"
      ],
      "execution_count": null,
      "outputs": []
    },
    {
      "cell_type": "code",
      "metadata": {
        "id": "Rpipp6OQrBPV",
        "colab_type": "code",
        "colab": {}
      },
      "source": [
        "counts = result.get_counts() #Get the results for each simulation"
      ],
      "execution_count": null,
      "outputs": []
    },
    {
      "cell_type": "code",
      "metadata": {
        "id": "zf-qqSpbrFGN",
        "colab_type": "code",
        "colab": {
          "base_uri": "https://localhost:8080/",
          "height": 335
        },
        "outputId": "34e9ce17-937b-43b1-cc8e-f95d21069b8e"
      },
      "source": [
        "from qiskit.visualization import plot_histogram #To visualize our results\n",
        "plot_histogram(counts)"
      ],
      "execution_count": null,
      "outputs": [
        {
          "output_type": "execute_result",
          "data": {
            "image/png": "[encoded data removed]",
            "text/plain": [
              "<Figure size 504x360 with 1 Axes>"
            ]
          },
          "metadata": {
            "tags": []
          },
          "execution_count": 48
        }
      ]
    },
    {
      "cell_type": "markdown",
      "metadata": {
        "id": "wP6tagWyyica",
        "colab_type": "text"
      },
      "source": [
        "**Analyzing the results:**\n",
        "\n",
        "* Clearly, we have got two states |00> and |11> with the right most number representing the state of the zeroth qubit. The probability of getting the state |00> is 0.503 and for |11>, it's 0.497\n",
        "\n",
        "* Note that we can never get the state (|00>+|11>)/sqrt(2). As soon as we measure a qubit, the superposition state vanishes away and we get either |00> or |11>\n",
        "\n",
        "* Initially, all the qubits are in the |0> state. Therefore, initially before applying the Hadamard Gate, our circuit was in the state |00>. We transformed that state into the (|00>+|11>)/sqrt(2) state. However, after measurement we can either get |00> or |11>.\n",
        "\n"
      ]
    },
    {
      "cell_type": "markdown",
      "metadata": {
        "id": "JsRnQ47s04qF",
        "colab_type": "text"
      },
      "source": [
        "**How does the state transformation take place?**\n",
        "\n",
        "* The Hadamard Gate transforms the state of the first qubit from state |0> to (|0>+|1>)/sqrt(2). Therefore, our two qubit circuit is in the state (|00>+|01>)/sqrt(2). The right most digit defines the state of zeroth qubit. \n",
        "\n",
        "* After the Hadamard Gate, we apply the CNOT Gate. Recall that the CNOT Gate performs a NOT on the target qubit if the control qubit is in the state |1>. Clearly, the CNOT Gate has no effect if the state is |00>. However, if the state is |01>, the NOT operation is performed and the |01> state is transformed to |11>. \n",
        "\n",
        "* Now, we finally achieve the state (|00>+|11>)/sqrt(2). However, the state collapses before we make a measurement and therefore, we either get |00> or |11>"
      ]
    },
    {
      "cell_type": "markdown",
      "metadata": {
        "id": "VdLSYrqM3Ov3",
        "colab_type": "text"
      },
      "source": [
        "**Note**: For the next three Bell States, try to figure out yourself the state transformation process as a simple exercise."
      ]
    },
    {
      "cell_type": "markdown",
      "metadata": {
        "id": "2VeJTfm9z-j9",
        "colab_type": "text"
      },
      "source": [
        "**The Second Bell State:**"
      ]
    },
    {
      "cell_type": "markdown",
      "metadata": {
        "colab_type": "text",
        "id": "soRF5bEDRVp9"
      },
      "source": [
        "![image.png](data:image/png;base64,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)"
      ]
    },
    {
      "cell_type": "markdown",
      "metadata": {
        "id": "dFCl3VLpKI8K",
        "colab_type": "text"
      },
      "source": [
        "Before we start building the circuit for Second Bell state, a common question can be - \"Why do these 4 Bell States differ?\"\n",
        "\n",
        "The reason for the differences in the Bell States is the initial state. Each of the four Bell State has a different initial state.\n",
        "\n",
        "Bell State 1 - |00>\n",
        "\n",
        "Bell State 2 - |01>\n",
        "\n",
        "Bell State 3 - |10>\n",
        "\n",
        "Bell State 4 - |11>\n",
        "\n",
        "Therefore, the circuit for all the Bell States is the same. We only need to change the initial states of our qubits."
      ]
    },
    {
      "cell_type": "code",
      "metadata": {
        "id": "jyuYaEn6KHpl",
        "colab_type": "code",
        "colab": {
          "base_uri": "https://localhost:8080/",
          "height": 33
        },
        "outputId": "654b43ae-bd7a-487a-ba51-eb73ccc73b77"
      },
      "source": [
        "circuit_es2 = QuantumCircuit(2,2)\n",
        "circuit_es2.x(0) #Applying the NOT Gate on the first qubit to get the state |01>\n",
        "circuit_es2.h(0) \n",
        "circuit_es2.cx(0,1)\n",
        "circuit_es2.measure(0,0) \n",
        "circuit_es2.measure(1,1)"
      ],
      "execution_count": null,
      "outputs": [
        {
          "output_type": "execute_result",
          "data": {
            "text/plain": [
              "<qiskit.circuit.instructionset.InstructionSet at 0x7fe6766cae48>"
            ]
          },
          "metadata": {
            "tags": []
          },
          "execution_count": 52
        }
      ]
    },
    {
      "cell_type": "code",
      "metadata": {
        "id": "OypdQ7JP037o",
        "colab_type": "code",
        "colab": {
          "base_uri": "https://localhost:8080/",
          "height": 185
        },
        "outputId": "68467387-78fc-425d-8254-90491f88cbde"
      },
      "source": [
        "#Let's visualize our circuit\n",
        "circuit_es2.draw('mpl')"
      ],
      "execution_count": null,
      "outputs": [
        {
          "output_type": "execute_result",
          "data": {
            "image/png": "[encoded data removed]",
            "text/plain": [
              "<Figure size 441.632x204.68 with 1 Axes>"
            ]
          },
          "metadata": {
            "tags": []
          },
          "execution_count": 53
        }
      ]
    },
    {
      "cell_type": "code",
      "metadata": {
        "id": "IisWW_p4MBSy",
        "colab_type": "code",
        "colab": {
          "base_uri": "https://localhost:8080/",
          "height": 333
        },
        "outputId": "caa6e364-acc4-43b5-bae6-a4fa87c68d76"
      },
      "source": [
        "simulator = Aer.get_backend('qasm_simulator') \n",
        "result = execute(circuit_es2,backend=simulator, shots = 1024).result() \n",
        "counts = result.get_counts()\n",
        "plot_histogram(counts)"
      ],
      "execution_count": null,
      "outputs": [
        {
          "output_type": "execute_result",
          "data": {
            "image/png": "[encoded data removed]",
            "text/plain": [
              "<Figure size 504x360 with 1 Axes>"
            ]
          },
          "metadata": {
            "tags": []
          },
          "execution_count": 54
        }
      ]
    },
    {
      "cell_type": "markdown",
      "metadata": {
        "id": "dfnKp_OcNcLr",
        "colab_type": "text"
      },
      "source": [
        "**The Third Bell State:**"
      ]
    },
    {
      "cell_type": "markdown",
      "metadata": {
        "colab_type": "text",
        "id": "QEArUg9nRZzD"
      },
      "source": [
        "![image.png](data:image/png;base64,iVBORw0KGgoAAAANSUhEUgAAAKoAAABICAYAAABm+m4LAAAMY0lEQVR4Ae2dVcgVzxuArRsL9UIMrAsDCwsbVNQLExtFULADGxHEAuPC7m7FFlvEVlCxwe7ubrHnz7N/Z5kzZ/ecPbHft8ffDOy3Nfm+z3knd74MwjgjgRSQQIYUyKPJopGAMKAaCFJCAgbUlFCTyaQB1TCQEhIwoKaEmkwmDaiGgZSQgAE1JdRkMmlANQykhAQMqCmhJpNJA6oQ4ufPn+LAgQO+03Dp0iXx+/dv39PxmsDevXu9eo3b36FDh5JSZgOqEOLr168ia9asSRFoJI1u3rxZ1K1bV/z58yeStzR5xw8mU6ZMvpd5/fr1SSmzAVUI8eXLF5EhQwZXpQHWhQsXxOjRo10hw8+tW7fE4sWLxYIFC8Tp06fD4uMHUbBgQfHkyZM0gTFSIoDqVGbKIWsYyrt9+3bx6NEj13KTxq9fv8SSJUvEwYMHw5IkHcr8+PHjsHexPDCguoCKwvbv3y8WLVokevfuLfLmzetqGVAGlgPF4xdYixYtKrp27WopUVUIyl++fLn6KF2u3UAF0nbt2olKlSpZ+ezUqZNVruPHj4fACpRbtmwR06dPF82aNbP8uDWfKPPChQsTKqcBVQjx+fPnMOuCIuvUqSMGDhwoRowYYb13q7axtkC6atUqWxlXrlyxns2cOTNEwWfOnBHVqlULs7Z2QI8XMn9Ys3gc4XSLSpz80MifGm/Pnj1F1apVxYcPH+yk+BG3atXKqmWQC3G5gXr27FlRpUqVhMpsQHUBFY2gOCzruHHjLEU4gcp7LEa2bNnEq1evbEUSFv/FixcPUTr+K1euLC5fvmz7jeeC+HXQYokHy6mHf/bsmfVszJgxIVEBJX6xnuQfx5k84KKBit969eqJdevWWf7j+WNAFUJ8+vQpTGmqMCdOnGi9dwJVWqaKFSvaipNhsU4oeOfOnfKRde7Xr58YO3asrfSQlx5v/ACVHxz5pdOnuqdPn1rP3WqCaKAS16RJk0T79u3jLrMB1QOo06ZNcwX1+fPnru+k4jmrjjDZs2e3mhzq81iunSxiLOF//Phh5VtaRaxe3759rWd6FS5/FLoFlul5AZUy58iRQ9y/f18Gi+lsQBVCfPz40aqOpdJ0Cc6ZM8eGUfcj26JO1tYNVKDo06eP1WTQ0/J6L+HR8+M1vA4q8WDxgDESqGrbVaYlQaWJEMklUmYDqgdQ6fmjQCcYjx49ar/ToRk1apT1DmCBU3VHjhwRNBf056qfSNeJgvr9+3dRtmxZu7lCfA0bNnQEVVpvZBAJVB1wPf/Iqnz58naa+vtI9wZUIazeLB0cHTQpuBUrVtgw6mCdP3/e9Z0ElaaDHo60GjduLF6+fCmTcTxfvHhR7NixI+TYs2eP2LRpk5XumjVrrE4KHRX1uH79umN88uG3b9/CQG3ZsqUjqLIdnidPnoRARQb82J3GW2W+3M4GVA+gAoCbRWXw3u2drPqBSXdSadGAYpqTeDgAf/DgwaJHjx6iQ4cOInPmzNYz+V49Hzt2TE8y5F4HlfwwDEVZdMsoQS1dunTCoLZo0SKu3r8B1QOoDGy7wSiVWK5cuTCL3L17d0fFQ8ypU6dEvnz5wsKE0BThBoucK1euuMM7gQrolFMfRnrw4IFdfqdaR7ZRdcD17DNbF2+ZDageQN21a5etKKcqvFGjRmHQoNAGDRpYawiYOtVdr169Eu5MMTXpBI6eltM9oAKlGh7QeDZhwoSQIDQ9eD5+/PiwJgwevYKaSJkNqH9B1ZWGAiSU+/bts0FFsRzyHf5kWxSgpZOdLGZvVBh4zwxPIkM1xEGcJUuWDItbph/t7ATqu3fvrAkK2utq+WhmIJ/du3fb0fJe+lFB5ZleXgLJMt+7d8+OI5YLA6oLqAibKVRmVDhQFAfXKEYdiqH6l3PidJyuXbsmsLIVKlQQzPbobu7cuQkNfhMf+XOaZNDTcrt3AhW/tIkpJ/mnHMxGcT958uQQACm/lI2Uj5QNctNhTbTMrqDq7RS3Akd7znrEIKwWipRPfu0oQxUulgFlUB1y6Nd6zxVY165dK7p16yaaNm0qmONnkFt3xFu9enVrEYv+LpZ78lq7du2QPMcS3g1U4pArxRiV6N+/v9VLV2WDH8qvykTKScpKWlv8JqPMjqCSKV1x0YRAZnTlEYbpOBrpQXZOoMabX2QHtG7uxo0bCVlCGa/UUaS0pF+ncyRQpX8dTvk81vPNmzcTLnPSQEVgZcqUCfuFA0GWLFnCnsdaWD/9JxPUaPlk/l/vrEQL48d7L6AmK91klDlpoLLwgnE43WFpsc7nzp3TXwXmPq1AxULVqlVLMIif3i6tQKXMyVgtljRQ27ZtK5YuXeoo/w0bNogBAwbYvURHT+n4MK1A5cdMraO239Kr2GkFKm1WVl0lWuakgMqvplChQsJt6AGhMIsS78oZv5UJqKxAT1SY0fKJnOhcBsGxWJxPZvwuM+tuk1HmmEBF0LRFOauOVeslSpSwnzv5GT58uDXEoYYz10YCXiXgGVTg7NixozXITJtz69atdhosiqXBjGOlDatyRo4caYPL86tXr6bJV492pszFPyUBz6DyOUb9+vUF6xhpcwAm8HIwbshqHtzKlSutzhMwq0MnVDEspjhx4oQnAdK2URdZeL0mnHH/ngRcQS1VqpRtEYERK8lCClb7ACHg8Jx1jfnz5xfv37+3pcOUIp0GFVReMqbqtVNFu8YrnKo/A6qthn/qwhVUdR4Za8gntIApp9SYvcAxO8FiWLVRzjNmaPCvujdv3ljVv9OMjeovLa75lNkcwZCBF317AlVGBHjMAavWEms2dOhQ6cU688mBukBDvpSgql9ryndpfe7SpYswRzBk4EX3MYHKbhdU+1TtOKwoCzTU6vbkyZOiefPmVqdKz4Cp+nWJmHuvEnAFFSD1qpt5atk+JQH5HTjjkDj8s0Zy27ZtYenH2pli3YDa9vR6TbPDuH9PAjGBytBT69atreVrdJSYcWJKEAgfPnxotVUZHVDbq1JkZnhKSsKc45FATKCSwMaNG62tXJiJogmQM2dOUaRIEQtgVoI7QUo4M+Afj3pMGCmBmEElIFU806H0mtn+hTaq3kyQCXBmCjVjxoyC5V7GGQnEI4G4QCUhwCxcuHDIxlluGaCJQJPBzdq6hTPPvUsA2bIqy+vhPeZg+IwbVEYAihUrFtGSUkQEyNQr38Yb548EkPG8efOs77Do7EY7Onfu7E9GfIw1blDZOGzYsGFRs8YHY+xszGa5xvkjATq2fD/1+vVr8fbtW0+HPznxL9a4QaVtqk+ROmVz9erV1jCT0zvzLHEJSGvKGot/2TmCSoFpVzIclahjzt5tnWqicZvw/9+WnM0vVKNB/4Ftf5junjJlirUzdDJ0mZ7ydgU1PTNl0vYugVmzZllbscsQQMpsIVPdDB+2adPGarOy4zP78aeqM6Cmqub+Dvuxqk21pi9evBBMY6vDhVOnTrVgZUVcENZZxCNyA2o8UgtImCFDhgg2dpAOOOnR0+ufMWOGfCzu3LljjwQka78GO/I0ujCgppGgk50M639ZXqlaU0Blwwh1PQbp0uGS2+7IBUXJzo/f8RlQ/ZawT/EzgTJ79uyw2Kn6mSkETukAmCYCAKfq6IABVWozQGfAUkHTs8aqNf4PlGpNdT/qPZ9pA2nu3LkF/0onFZ0BNWBa4/+lUk3TAXJzTZo0EfPnzw/pMLn5BXr2XABU3dK6hQnicwNqQLSCBeWbNFlFsyKNWSbd3b17V9SsWdOTNQVS2qRAevjwYU9g6+kF5d6AGhBNACrbNvKVb40aNSy4nNqgfMnL/x2N1DSQRWJ9BcCzNBNHGC/hZPggnQ2oQdLG37wsW7bMApVBe7UdyuJ09h5Vn7lln2/WCE9TQjoWrvClRCo6A2oAtUaVzbbqVNlq54fF516sKUv92JiMdcDSinJmoxDCp6IzoAZUa/Lf8zAuCmT8K3J9Tt8p6/w7SDpjWF7O6sG2S8xapaIzoAZUa1TvQMZe/7dv3xYsq4xmTQFablOONXY6vDQbgigSA2oQtfI3Tyw4ATaqfP6rXjTIANVtu3KGpszwVICVncpZY0cZ/i9TgQIFrOV6gPhfdcaiBlzzgwYNsvaWjWZNA16MhLNnQE1YhP5GwCc8DCn9l60pEjag+suZiT1JEjCgJkmQJhp/JWBA9Ve+JvYkScCAmiRBmmj8lYAB1V/5mtiTJAEDapIEaaLxVwIGVH/la2JPkgT+B21WPkGdTSVwAAAAAElFTkSuQmCC)"
      ]
    },
    {
      "cell_type": "code",
      "metadata": {
        "id": "-nJHRZLXMaC-",
        "colab_type": "code",
        "colab": {
          "base_uri": "https://localhost:8080/",
          "height": 33
        },
        "outputId": "617eca74-8db7-4f66-e91c-f0b8b8b8ddc5"
      },
      "source": [
        "circuit_es3 = QuantumCircuit(2,2)\n",
        "circuit_es3.x(1) #Applying the NOT Gate on the second qubit to get the state |10>\n",
        "circuit_es3.h(0) \n",
        "circuit_es3.cx(0,1)\n",
        "circuit_es3.measure(0,0) \n",
        "circuit_es3.measure(1,1)"
      ],
      "execution_count": null,
      "outputs": [
        {
          "output_type": "execute_result",
          "data": {
            "text/plain": [
              "<qiskit.circuit.instructionset.InstructionSet at 0x7fe66d59d048>"
            ]
          },
          "metadata": {
            "tags": []
          },
          "execution_count": 55
        }
      ]
    },
    {
      "cell_type": "code",
      "metadata": {
        "id": "JZBT8VHXN0nx",
        "colab_type": "code",
        "colab": {
          "base_uri": "https://localhost:8080/",
          "height": 185
        },
        "outputId": "93ae0eff-13bf-443a-fadc-03eee335190a"
      },
      "source": [
        "#Let's visualize our circuit\n",
        "circuit_es3.draw('mpl')"
      ],
      "execution_count": null,
      "outputs": [
        {
          "output_type": "execute_result",
          "data": {
            "image/png": "[encoded data removed]",
            "text/plain": [
              "<Figure size 381.432x204.68 with 1 Axes>"
            ]
          },
          "metadata": {
            "tags": []
          },
          "execution_count": 56
        }
      ]
    },
    {
      "cell_type": "code",
      "metadata": {
        "id": "rDpbzR26N3Ir",
        "colab_type": "code",
        "colab": {
          "base_uri": "https://localhost:8080/",
          "height": 331
        },
        "outputId": "80a6cbf8-2fc4-4483-b963-064211fb2361"
      },
      "source": [
        "simulator = Aer.get_backend('qasm_simulator') \n",
        "result = execute(circuit_es3,backend=simulator, shots = 1024).result() \n",
        "counts = result.get_counts()\n",
        "plot_histogram(counts)"
      ],
      "execution_count": null,
      "outputs": [
        {
          "output_type": "execute_result",
          "data": {
            "image/png": "[encoded data removed]",
            "text/plain": [
              "<Figure size 504x360 with 1 Axes>"
            ]
          },
          "metadata": {
            "tags": []
          },
          "execution_count": 57
        }
      ]
    },
    {
      "cell_type": "markdown",
      "metadata": {
        "id": "qoWMAL_FOMUq",
        "colab_type": "text"
      },
      "source": [
        "**The Fourth Bell State:**"
      ]
    },
    {
      "cell_type": "markdown",
      "metadata": {
        "colab_type": "text",
        "id": "ZpuHz7erRdlB"
      },
      "source": [
        "![image.png](data:image/png;base64,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)"
      ]
    },
    {
      "cell_type": "code",
      "metadata": {
        "id": "0uARVFN5OKuP",
        "colab_type": "code",
        "colab": {
          "base_uri": "https://localhost:8080/",
          "height": 33
        },
        "outputId": "244b26e8-9888-43ab-cd0d-294576d361b9"
      },
      "source": [
        "circuit_es4 = QuantumCircuit(2,2)\n",
        "circuit_es4.x(0)\n",
        "circuit_es4.x(1) #Applying the NOT Gates on the two qubits to get the state |11>\n",
        "circuit_es4.h(0) \n",
        "circuit_es4.cx(0,1)\n",
        "circuit_es4.measure(0,0) \n",
        "circuit_es4.measure(1,1)"
      ],
      "execution_count": null,
      "outputs": [
        {
          "output_type": "execute_result",
          "data": {
            "text/plain": [
              "<qiskit.circuit.instructionset.InstructionSet at 0x7fe66d4a5ef0>"
            ]
          },
          "metadata": {
            "tags": []
          },
          "execution_count": 58
        }
      ]
    },
    {
      "cell_type": "code",
      "metadata": {
        "id": "8aPx1x_ROWhN",
        "colab_type": "code",
        "colab": {
          "base_uri": "https://localhost:8080/",
          "height": 185
        },
        "outputId": "29416925-24fa-41e9-e655-7f0692370667"
      },
      "source": [
        "#Let's visualize our circuit\n",
        "circuit_es4.draw('mpl')"
      ],
      "execution_count": null,
      "outputs": [
        {
          "output_type": "execute_result",
          "data": {
            "image/png": "[encoded data removed]",
            "text/plain": [
              "<Figure size 441.632x204.68 with 1 Axes>"
            ]
          },
          "metadata": {
            "tags": []
          },
          "execution_count": 59
        }
      ]
    },
    {
      "cell_type": "code",
      "metadata": {
        "id": "42wKYxYSOaPy",
        "colab_type": "code",
        "colab": {
          "base_uri": "https://localhost:8080/",
          "height": 335
        },
        "outputId": "2cd75ce2-23a5-4e24-bffb-2a596b771abf"
      },
      "source": [
        "simulator = Aer.get_backend('qasm_simulator') \n",
        "result = execute(circuit_es4,backend=simulator, shots = 1024).result() \n",
        "counts = result.get_counts()\n",
        "plot_histogram(counts)"
      ],
      "execution_count": null,
      "outputs": [
        {
          "output_type": "execute_result",
          "data": {
            "image/png": "[encoded data removed]",
            "text/plain": [
              "<Figure size 504x360 with 1 Axes>"
            ]
          },
          "metadata": {
            "tags": []
          },
          "execution_count": 60
        }
      ]
    },
    {
      "cell_type": "markdown",
      "metadata": {
        "id": "xDRSNFxRO8BS",
        "colab_type": "text"
      },
      "source": [
        "If you find something incorrect in the notebook or feel that some concepts needed a better explaination or you need resources for better understanding, contact me on [LinkedIn](https://www.linkedin.com/in/jay-shah-mlpython/).\n",
        "\n"
      ]
    },
    {
      "cell_type": "markdown",
      "metadata": {
        "id": "gPsL7AXXSVuT",
        "colab_type": "text"
      },
      "source": [
        "**THANK YOU!**"
      ]
    }
  ]
}